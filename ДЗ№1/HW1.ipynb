{
 "cells": [
  {
   "cell_type": "code",
   "execution_count": 16,
   "metadata": {
    "ExecuteTime": {
     "end_time": "2021-10-04T15:58:35.869898Z",
     "start_time": "2021-10-04T15:58:35.420168Z"
    },
    "id": "_LdJp3Z-OE6I",
    "executionInfo": {
     "status": "ok",
     "timestamp": 1647972912112,
     "user_tz": -180,
     "elapsed": 444,
     "user": {
      "displayName": "Рома -",
      "photoUrl": "https://lh3.googleusercontent.com/a-/AOh14GiIvJLUD1dCiLXZ7bVVlId3n4OEg8C8ydLWuPcFXQ=s64",
      "userId": "06927140356582614997"
     }
    }
   },
   "outputs": [],
   "source": [
    "import numpy as np"
   ]
  },
  {
   "cell_type": "markdown",
   "metadata": {
    "id": "LdHMz7GbOE6J"
   },
   "source": [
    "# Максимум 5 баллов - по ~0.7 баллов за задание"
   ]
  },
  {
   "cell_type": "markdown",
   "metadata": {
    "id": "HVTHYwDrOE6L"
   },
   "source": [
    "### 1. Подсчитать произведение ненулевых элементов на диагонали прямоугольной матрицы. \n",
    "Для X = np.array([[1, 0, 1], [2, 0, 2], [3, 0, 3], [4, 4, 4]]) ответ 3."
   ]
  },
  {
   "cell_type": "code",
   "execution_count": 17,
   "outputs": [
    {
     "output_type": "execute_result",
     "data": {
      "text/plain": [
       "array([[1, 0, 1],\n",
       "       [2, 0, 2],\n",
       "       [3, 0, 3],\n",
       "       [4, 4, 4]])"
      ]
     },
     "metadata": {},
     "execution_count": 17
    }
   ],
   "source": [
    "X = np.array([[1, 0, 1], [2, 0, 2], [3, 0, 3], [4, 4, 4]])\n",
    "# N = 10000\n",
    "# X = np.random.randint(1, 100, (N, N))\n",
    "X"
   ],
   "metadata": {
    "pycharm": {
     "name": "#%%\n"
    },
    "colab": {
     "base_uri": "https://localhost:8080/"
    },
    "id": "UGhWHAChOE6L",
    "executionInfo": {
     "status": "ok",
     "timestamp": 1647972912946,
     "user_tz": -180,
     "elapsed": 3,
     "user": {
      "displayName": "Рома -",
      "photoUrl": "https://lh3.googleusercontent.com/a-/AOh14GiIvJLUD1dCiLXZ7bVVlId3n4OEg8C8ydLWuPcFXQ=s64",
      "userId": "06927140356582614997"
     }
    },
    "outputId": "9c7f4a8f-0d7d-4690-d914-35b329b8f3de"
   }
  },
  {
   "cell_type": "markdown",
   "source": [
    "### 1.1"
   ],
   "metadata": {
    "collapsed": false,
    "id": "20heLdWeOE6M"
   }
  },
  {
   "cell_type": "code",
   "execution_count": 18,
   "outputs": [
    {
     "output_type": "stream",
     "name": "stdout",
     "text": [
      "1000 loops, best of 5: 6.37 µs per loop\n"
     ]
    }
   ],
   "source": [
    "def func1_1(X):\n",
    "    return np.prod(X.diagonal()[X.diagonal() > 0])\n",
    "%timeit -n 1000 func1_1(X)\n",
    "# 4.88 µs ± 234 ns per loop (mean ± std. dev. of 7 runs, 1,000 loops each) исходные данные\n",
    "# 8.73 µs ± 985 ns per loop (mean ± std. dev. of 7 runs, 1,000 loops each) N = 1000\n",
    "# 114 µs ± 6.57 µs per loop (mean ± std. dev. of 7 runs, 1,000 loops each) N = 10000"
   ],
   "metadata": {
    "pycharm": {
     "name": "#%%\n"
    },
    "colab": {
     "base_uri": "https://localhost:8080/"
    },
    "id": "aPZ7dAOXOE6M",
    "executionInfo": {
     "status": "ok",
     "timestamp": 1647972914023,
     "user_tz": -180,
     "elapsed": 2,
     "user": {
      "displayName": "Рома -",
      "photoUrl": "https://lh3.googleusercontent.com/a-/AOh14GiIvJLUD1dCiLXZ7bVVlId3n4OEg8C8ydLWuPcFXQ=s64",
      "userId": "06927140356582614997"
     }
    },
    "outputId": "cc61bac0-06e9-48de-dbe9-570a2008cb1d"
   }
  },
  {
   "cell_type": "markdown",
   "source": [
    "### 1.2"
   ],
   "metadata": {
    "collapsed": false,
    "pycharm": {
     "name": "#%% md\n"
    },
    "id": "m_5aO0HPOE6N"
   }
  },
  {
   "cell_type": "code",
   "execution_count": 19,
   "outputs": [
    {
     "output_type": "stream",
     "name": "stdout",
     "text": [
      "1000 loops, best of 5: 14.1 µs per loop\n"
     ]
    }
   ],
   "source": [
    "def func1_2(X):\n",
    "    return np.prod([X[i][i] for i in range(np.min(X.shape)) if X[i][i] != 0])\n",
    "%timeit -n 1000 func1_2(X)\n",
    "# 10.1 µs ± 1.14 µs per loop (mean ± std. dev. of 7 runs, 1,000 loops each) исходные данные\n",
    "# 558 µs ± 7.99 µs per loop (mean ± std. dev. of 7 runs, 1,000 loops each) N = 1000\n",
    "# 5.9 ms ± 353 µs per loop (mean ± std. dev. of 7 runs, 1,000 loops each) N = 10000"
   ],
   "metadata": {
    "pycharm": {
     "name": "#%%\n"
    },
    "colab": {
     "base_uri": "https://localhost:8080/"
    },
    "id": "Q1pY1uz8OE6N",
    "executionInfo": {
     "status": "ok",
     "timestamp": 1647972914429,
     "user_tz": -180,
     "elapsed": 2,
     "user": {
      "displayName": "Рома -",
      "photoUrl": "https://lh3.googleusercontent.com/a-/AOh14GiIvJLUD1dCiLXZ7bVVlId3n4OEg8C8ydLWuPcFXQ=s64",
      "userId": "06927140356582614997"
     }
    },
    "outputId": "c5c2f758-85a5-4c04-cd4f-fcdb45e6fcaf"
   }
  },
  {
   "cell_type": "markdown",
   "source": [
    "### 1.3"
   ],
   "metadata": {
    "collapsed": false,
    "pycharm": {
     "name": "#%% md\n"
    },
    "id": "9B3EW26uOE6O"
   }
  },
  {
   "cell_type": "code",
   "execution_count": 20,
   "outputs": [
    {
     "output_type": "stream",
     "name": "stdout",
     "text": [
      "1000 loops, best of 5: 6.01 µs per loop\n"
     ]
    }
   ],
   "source": [
    "def func1_3(X):\n",
    "    X_diagonal = X.diagonal()\n",
    "    items_g0 = X_diagonal > 0\n",
    "    return np.prod(X_diagonal[items_g0])\n",
    "%timeit -n 1000 func1_3(X)\n",
    "# 5.7 µs ± 1.05 µs per loop (mean ± std. dev. of 7 runs, 1,000 loops each) исходные данные\n",
    "# 8.44 µs ± 661 ns per loop (mean ± std. dev. of 7 runs, 1,000 loops each) N = 1000\n",
    "# 104 µs ± 2.1 µs per loop (mean ± std. dev. of 7 runs, 1,000 loops each) N = 10000"
   ],
   "metadata": {
    "pycharm": {
     "name": "#%%\n"
    },
    "colab": {
     "base_uri": "https://localhost:8080/"
    },
    "id": "b3NIY6yROE6O",
    "executionInfo": {
     "status": "ok",
     "timestamp": 1647972915363,
     "user_tz": -180,
     "elapsed": 8,
     "user": {
      "displayName": "Рома -",
      "photoUrl": "https://lh3.googleusercontent.com/a-/AOh14GiIvJLUD1dCiLXZ7bVVlId3n4OEg8C8ydLWuPcFXQ=s64",
      "userId": "06927140356582614997"
     }
    },
    "outputId": "ce53e3c2-e0f3-48d7-f0e9-eb405090bb87"
   }
  },
  {
   "cell_type": "markdown",
   "source": [
    "### Выводы\n",
    "1) Способ решения с векторами самый быстрый\n",
    "\n",
    "2) Способ решения с циклами - самый медленный\n",
    "\n",
    "3) наиболее хорошо читаемый код получился лучше решения с циклами, но хуже варианта с векторами"
   ],
   "metadata": {
    "collapsed": false,
    "pycharm": {
     "name": "#%% md\n"
    },
    "id": "-N-uoz4GOE6P"
   }
  },
  {
   "cell_type": "markdown",
   "metadata": {
    "id": "LT-v4BPjOE6P"
   },
   "source": [
    "### 2. Дана матрица X и два вектора одинаковой длины i и j. Построить вектор np.array([X[i[0], j[0]], X[i[1], j[1]], ... , X[i[N-1], j[N-1]]])."
   ]
  },
  {
   "cell_type": "code",
   "execution_count": 21,
   "outputs": [
    {
     "output_type": "execute_result",
     "data": {
      "text/plain": [
       "array([[47, 74, 95, 71, 10, 74, 62, 13, 11],\n",
       "       [86, 17, 96, 56, 77, 83, 77, 88, 39],\n",
       "       [85, 97, 57, 19, 97, 17, 29, 30, 13],\n",
       "       [40, 70, 91, 37, 50, 49, 18, 12, 66],\n",
       "       [13, 47, 33, 35, 42, 50, 21, 91, 11],\n",
       "       [61, 66,  1, 10, 44, 45, 63, 67, 88],\n",
       "       [36, 30, 97, 31,  5, 43,  9,  2, 50],\n",
       "       [41, 91, 78,  7, 38, 48, 59,  5, 90]])"
      ]
     },
     "metadata": {},
     "execution_count": 21
    }
   ],
   "source": [
    "i = np.array([1, 7, 3, 4])\n",
    "j = np.array([1, 2, 3, 8])\n",
    "# N = 100\n",
    "# i = np.random.randint(0, N, N)\n",
    "# j = np.random.randint(0, N, N)\n",
    "X = np.random.randint(0, 100, (np.max(i) + 1, np.max(j) + 1))\n",
    "X"
   ],
   "metadata": {
    "pycharm": {
     "name": "#%%\n"
    },
    "colab": {
     "base_uri": "https://localhost:8080/"
    },
    "id": "als_YQSHOE6P",
    "executionInfo": {
     "status": "ok",
     "timestamp": 1647972916709,
     "user_tz": -180,
     "elapsed": 8,
     "user": {
      "displayName": "Рома -",
      "photoUrl": "https://lh3.googleusercontent.com/a-/AOh14GiIvJLUD1dCiLXZ7bVVlId3n4OEg8C8ydLWuPcFXQ=s64",
      "userId": "06927140356582614997"
     }
    },
    "outputId": "26643cb3-0bc7-4f15-a4b4-62029207c359"
   }
  },
  {
   "cell_type": "markdown",
   "source": [
    "### 2.1"
   ],
   "metadata": {
    "collapsed": false,
    "pycharm": {
     "name": "#%% md\n"
    },
    "id": "TBs2C17EOE6Q"
   }
  },
  {
   "cell_type": "code",
   "execution_count": 22,
   "outputs": [
    {
     "output_type": "stream",
     "name": "stdout",
     "text": [
      "100 loops, best of 5: 1.86 µs per loop\n"
     ]
    },
    {
     "output_type": "execute_result",
     "data": {
      "text/plain": [
       "array([17, 78, 37, 11])"
      ]
     },
     "metadata": {},
     "execution_count": 22
    }
   ],
   "source": [
    "def func2_1(X, i, j):\n",
    "    return X[i, j]\n",
    "%timeit -n 100 func2_1(X, i, j)\n",
    "func2_1(X, i, j)\n",
    "# 4.29 µs ± 5.64 µs per loop (mean ± std. dev. of 7 runs, 100 loops each) N = 100\n",
    "# 9.24 µs ± 5.22 µs per loop (mean ± std. dev. of 7 runs, 100 loops each) N = 1000\n",
    "# 141 µs ± 15.1 µs per loop (mean ± std. dev. of 7 runs, 100 loops each) N = 10000"
   ],
   "metadata": {
    "pycharm": {
     "name": "#%%\n"
    },
    "colab": {
     "base_uri": "https://localhost:8080/"
    },
    "id": "vKaHiQB6OE6Q",
    "executionInfo": {
     "status": "ok",
     "timestamp": 1647972918307,
     "user_tz": -180,
     "elapsed": 364,
     "user": {
      "displayName": "Рома -",
      "photoUrl": "https://lh3.googleusercontent.com/a-/AOh14GiIvJLUD1dCiLXZ7bVVlId3n4OEg8C8ydLWuPcFXQ=s64",
      "userId": "06927140356582614997"
     }
    },
    "outputId": "206c6886-bcc0-4c46-c9c0-340887287393"
   }
  },
  {
   "cell_type": "markdown",
   "source": [
    "### 2.2"
   ],
   "metadata": {
    "collapsed": false,
    "pycharm": {
     "name": "#%% md\n"
    },
    "id": "oBSM6DNxOE6R"
   }
  },
  {
   "cell_type": "code",
   "execution_count": 23,
   "outputs": [
    {
     "output_type": "stream",
     "name": "stdout",
     "text": [
      "100 loops, best of 5: 3.52 µs per loop\n"
     ]
    },
    {
     "output_type": "execute_result",
     "data": {
      "text/plain": [
       "array([17, 78, 37, 11])"
      ]
     },
     "metadata": {},
     "execution_count": 23
    }
   ],
   "source": [
    "def func2_2(X, i, j):\n",
    "    return np.array([X[i[k]][j[k]] for k in range(len(i))])\n",
    "%timeit -n 100 func2_2(X, i, j)\n",
    "func2_2(X, i, j)\n",
    "# 51.3 µs ± 1.35 µs per loop (mean ± std. dev. of 7 runs, 100 loops each) N = 100\n",
    "# 461 µs ± 6.88 µs per loop (mean ± std. dev. of 7 runs, 100 loops each) N = 1000\n",
    "# 5.58 ms ± 757 µs per loop (mean ± std. dev. of 7 runs, 100 loops each) N = 10000"
   ],
   "metadata": {
    "pycharm": {
     "name": "#%%\n"
    },
    "colab": {
     "base_uri": "https://localhost:8080/"
    },
    "id": "4MEwuL_qOE6R",
    "executionInfo": {
     "status": "ok",
     "timestamp": 1647972919369,
     "user_tz": -180,
     "elapsed": 6,
     "user": {
      "displayName": "Рома -",
      "photoUrl": "https://lh3.googleusercontent.com/a-/AOh14GiIvJLUD1dCiLXZ7bVVlId3n4OEg8C8ydLWuPcFXQ=s64",
      "userId": "06927140356582614997"
     }
    },
    "outputId": "7ff599cd-f84b-4069-b43e-cb058a422494"
   }
  },
  {
   "cell_type": "markdown",
   "source": [
    "### 2.3"
   ],
   "metadata": {
    "collapsed": false,
    "pycharm": {
     "name": "#%% md\n"
    },
    "id": "rm9bHnxUOE6R"
   }
  },
  {
   "cell_type": "code",
   "execution_count": 24,
   "outputs": [
    {
     "output_type": "stream",
     "name": "stdout",
     "text": [
      "100 loops, best of 5: 3.68 µs per loop\n"
     ]
    }
   ],
   "source": [
    "def func2_3(X, i, j):\n",
    "    result = []\n",
    "    for k in range(len(i)):\n",
    "        result.append(X[i[k], j[k]])\n",
    "    return result\n",
    "%timeit -n 100 func2_3(X, i, j)\n",
    "# 37.6 µs ± 2.88 µs per loop (mean ± std. dev. of 7 runs, 100 loops each) N = 100\n",
    "# 475 µs ± 46.5 µs per loop (mean ± std. dev. of 7 runs, 100 loops each) N = 1000\n",
    "# 4.01 ms ± 161 µs per loop (mean ± std. dev. of 7 runs, 100 loops each) N = 1000"
   ],
   "metadata": {
    "pycharm": {
     "name": "#%%\n"
    },
    "colab": {
     "base_uri": "https://localhost:8080/"
    },
    "id": "5O0ywTnyOE6S",
    "executionInfo": {
     "status": "ok",
     "timestamp": 1647972921726,
     "user_tz": -180,
     "elapsed": 402,
     "user": {
      "displayName": "Рома -",
      "photoUrl": "https://lh3.googleusercontent.com/a-/AOh14GiIvJLUD1dCiLXZ7bVVlId3n4OEg8C8ydLWuPcFXQ=s64",
      "userId": "06927140356582614997"
     }
    },
    "outputId": "34c8519d-e77f-47bb-e1ee-f51ddbe1068e"
   }
  },
  {
   "cell_type": "markdown",
   "source": [
    "### Вывод\n",
    "1) Способ решения с векторами самый быстрый\n",
    "\n",
    "2) Способ решения с циклами - самый медленный\n",
    "\n",
    "3) наиболее хорошо читаемый код получился лучше решения с циклами, но хуже варианта с векторами"
   ],
   "metadata": {
    "collapsed": false,
    "pycharm": {
     "name": "#%% md\n"
    },
    "id": "juXK5q3-OE6S"
   }
  },
  {
   "cell_type": "markdown",
   "metadata": {
    "id": "_WT7BcljOE6T"
   },
   "source": [
    "### 3. Даны два вектора x и y. Проверить, задают ли они одно и то же мультимножество. \n",
    "Для x = np.array([1, 2, 2, 4]), y = np.array([4, 2, 1, 2]) ответ True."
   ]
  },
  {
   "cell_type": "code",
   "execution_count": 25,
   "outputs": [
    {
     "output_type": "stream",
     "name": "stdout",
     "text": [
      "[ 33  79 126 145  92 138  70  55 193  98   5  13 182  71 147  73 125 149\n",
      " 136  79   6  58 153  64  48  30 108   0  88   6 123 130 171  51  86 175\n",
      "  61 137   7  66  23  22  73  68  81 197 147  51  29  85  80  88  87  18\n",
      "  17 157 124  97 180 125 118 127  40  81 120 146  54 182 170  38  98 193\n",
      "  99  72  45  40 135  28 163 160 118 166  49 195  36  95  21  54 167  18\n",
      " 175 169  94  41 111 172 164 114  23 156] \n",
      " [172  84 178  97 165 135  68  21  18 181  96 114 163  52  12 191 158 122\n",
      " 157  50  95 133  84  65  59 115  59  37 106 103  25 134  48  76 173  19\n",
      "  23 187  47 170 188 120 139  75 114 197 181  57  98 195   1 104  18 154\n",
      " 149  45 182 188  59  34 110 125  41  20 192 172 122  10  28  54  23   6\n",
      "  26 159 107 174  26  89 156 169  29 115  29  45 106  45  54  33 157 179\n",
      "   8 132  55  47 139  81   8  61  50 192]\n"
     ]
    }
   ],
   "source": [
    "N = 100\n",
    "x = np.random.randint(0, 2 * N, N)\n",
    "y = np.random.randint(0, 2 * N, N)\n",
    "# x = np.array([1, 2, 2, 3, 3])\n",
    "# y = np.array([4, 2, 1, 2, 3])\n",
    "print(x, '\\n', y)"
   ],
   "metadata": {
    "pycharm": {
     "name": "#%%\n"
    },
    "colab": {
     "base_uri": "https://localhost:8080/"
    },
    "id": "aDNYxS0IOE6T",
    "executionInfo": {
     "status": "ok",
     "timestamp": 1647972925212,
     "user_tz": -180,
     "elapsed": 484,
     "user": {
      "displayName": "Рома -",
      "photoUrl": "https://lh3.googleusercontent.com/a-/AOh14GiIvJLUD1dCiLXZ7bVVlId3n4OEg8C8ydLWuPcFXQ=s64",
      "userId": "06927140356582614997"
     }
    },
    "outputId": "27259e07-dd92-42cd-cf0c-733a7fcaf20e"
   }
  },
  {
   "cell_type": "markdown",
   "source": [
    "### 3.1"
   ],
   "metadata": {
    "collapsed": false,
    "pycharm": {
     "name": "#%% md\n"
    },
    "id": "bj-VLZOAOE6T"
   }
  },
  {
   "cell_type": "code",
   "execution_count": 26,
   "outputs": [
    {
     "output_type": "stream",
     "name": "stdout",
     "text": [
      "100 loops, best of 5: 9.65 µs per loop\n"
     ]
    },
    {
     "output_type": "execute_result",
     "data": {
      "text/plain": [
       "False"
      ]
     },
     "metadata": {},
     "execution_count": 26
    }
   ],
   "source": [
    "def func3_1(x, y):\n",
    "    bool_list = np.sort(x) == np.sort(y)\n",
    "    if x[bool_list].shape[0] == x.shape[0]:\n",
    "        return True\n",
    "    return False\n",
    "%timeit -n 100 func3_1(x, y)\n",
    "func3_1(x, y)\n",
    "# 6.83 µs ± 2.92 µs per loop (mean ± std. dev. of 7 runs, 100 loops each) N = 100\n",
    "# 41.9 µs ± 7.62 µs per loop (mean ± std. dev. of 7 runs, 100 loops each) N = 1000\n",
    "# 1.12 ms ± 33.5 µs per loop (mean ± std. dev. of 7 runs, 100 loops each) N = 10000"
   ],
   "metadata": {
    "pycharm": {
     "name": "#%%\n"
    },
    "colab": {
     "base_uri": "https://localhost:8080/"
    },
    "id": "T3uDrcpkOE6U",
    "executionInfo": {
     "status": "ok",
     "timestamp": 1647972927764,
     "user_tz": -180,
     "elapsed": 269,
     "user": {
      "displayName": "Рома -",
      "photoUrl": "https://lh3.googleusercontent.com/a-/AOh14GiIvJLUD1dCiLXZ7bVVlId3n4OEg8C8ydLWuPcFXQ=s64",
      "userId": "06927140356582614997"
     }
    },
    "outputId": "73c7f2eb-059c-4ce4-afd7-10d5a5ea92ad"
   }
  },
  {
   "cell_type": "markdown",
   "source": [
    "### 3.2"
   ],
   "metadata": {
    "collapsed": false,
    "pycharm": {
     "name": "#%% md\n"
    },
    "id": "JqS7qMmQOE6U"
   }
  },
  {
   "cell_type": "code",
   "execution_count": 27,
   "outputs": [
    {
     "output_type": "stream",
     "name": "stdout",
     "text": [
      "100 loops, best of 5: 4.62 µs per loop\n"
     ]
    },
    {
     "output_type": "execute_result",
     "data": {
      "text/plain": [
       "False"
      ]
     },
     "metadata": {},
     "execution_count": 27
    }
   ],
   "source": [
    "def func3_2(x, y):\n",
    "    x = np.sort(x)\n",
    "    y = np.sort(y)\n",
    "    for i in range(len(x)):\n",
    "        if x[i] != y[i]:\n",
    "            return False\n",
    "    return True\n",
    "\n",
    "%timeit -n 100 func3_2(x, y)\n",
    "func3_2(x, y)\n",
    "# 5.3 µs ± 3.01 µs per loop (mean ± std. dev. of 7 runs, 100 loops each) N = 100\n",
    "# 35.2 µs ± 7.8 µs per loop (mean ± std. dev. of 7 runs, 100 loops each) N = 1000\n",
    "# 1.38 ms ± 379 µs per loop (mean ± std. dev. of 7 runs, 100 loops each) N = 10000"
   ],
   "metadata": {
    "pycharm": {
     "name": "#%%\n"
    },
    "colab": {
     "base_uri": "https://localhost:8080/"
    },
    "id": "fSeEUe60OE6U",
    "executionInfo": {
     "status": "ok",
     "timestamp": 1647972928893,
     "user_tz": -180,
     "elapsed": 4,
     "user": {
      "displayName": "Рома -",
      "photoUrl": "https://lh3.googleusercontent.com/a-/AOh14GiIvJLUD1dCiLXZ7bVVlId3n4OEg8C8ydLWuPcFXQ=s64",
      "userId": "06927140356582614997"
     }
    },
    "outputId": "0ee54d16-328d-48a6-84d6-92742bd7d534"
   }
  },
  {
   "cell_type": "markdown",
   "source": [
    "### 3.3"
   ],
   "metadata": {
    "collapsed": false,
    "pycharm": {
     "name": "#%% md\n"
    },
    "id": "QQnMQwfFOE6V"
   }
  },
  {
   "cell_type": "code",
   "execution_count": 28,
   "outputs": [
    {
     "output_type": "stream",
     "name": "stdout",
     "text": [
      "100 loops, best of 5: 24.5 µs per loop\n"
     ]
    },
    {
     "output_type": "execute_result",
     "data": {
      "text/plain": [
       "False"
      ]
     },
     "metadata": {},
     "execution_count": 28
    }
   ],
   "source": [
    "def func3_3(x, y):\n",
    "    for i in x:\n",
    "        if np.sum(x == i) != np.sum(y == i):\n",
    "            return False\n",
    "    return True\n",
    "%timeit -n 100 func3_3(x, y)\n",
    "func3_3(x, y)\n",
    "# 18.8 µs ± 988 ns per loop (mean ± std. dev. of 7 runs, 100 loops each) N = 100\n",
    "# 18.8 µs ± 6.25 µs per loop (mean ± std. dev. of 7 runs, 100 loops each) N = 1000\n",
    "# 64.5 µs ± 6.02 µs per loop (mean ± std. dev. of 7 runs, 100 loops each) N = 10000"
   ],
   "metadata": {
    "pycharm": {
     "name": "#%%\n"
    },
    "colab": {
     "base_uri": "https://localhost:8080/"
    },
    "id": "EDpRJGteOE6V",
    "executionInfo": {
     "status": "ok",
     "timestamp": 1647972931061,
     "user_tz": -180,
     "elapsed": 251,
     "user": {
      "displayName": "Рома -",
      "photoUrl": "https://lh3.googleusercontent.com/a-/AOh14GiIvJLUD1dCiLXZ7bVVlId3n4OEg8C8ydLWuPcFXQ=s64",
      "userId": "06927140356582614997"
     }
    },
    "outputId": "cabb2bd6-03b3-4d66-b460-07bedfe8d04b"
   }
  },
  {
   "cell_type": "markdown",
   "source": [
    "### Вывод\n",
    "1) Способ решения с векторами оказался хуже, чем с циклами\n",
    "\n",
    "2) Способ решения с циклами - самый быстрый\n",
    "\n",
    "3) Третий способ проверки в цикле кол-ва каждого элемента с применением векторизации оказался наихудхим вариантом"
   ],
   "metadata": {
    "collapsed": false,
    "pycharm": {
     "name": "#%% md\n"
    },
    "id": "JbKli8lTOE6W"
   }
  },
  {
   "cell_type": "markdown",
   "metadata": {
    "id": "G-hOjK57OE6W"
   },
   "source": [
    "### 4. Найти максимальный элемент в векторе x среди элементов, перед которыми стоит нулевой.\n",
    "Для x = np.array([6, 2, 0, 3, 0, 0, 5, 7, 0]) ответ 5."
   ]
  },
  {
   "cell_type": "code",
   "execution_count": 29,
   "outputs": [
    {
     "output_type": "execute_result",
     "data": {
      "text/plain": [
       "array([96,  6, 51, 17, 90,  2, 91, 66, 12,  4, 59, 65, 91, 32, 24, 21, 70,\n",
       "       12, 30, 68, 87, 97, 15, 43, 18, 11, 78, 13, 69, 72,  7, 90,  6, 88,\n",
       "       23, 40,  1, 79, 81, 46, 80,  4,  3, 98, 94, 81, 39, 86, 41, 18, 43,\n",
       "       77, 68, 51, 80,  4, 69, 42, 47, 29, 45, 54, 39, 75, 99, 88, 33, 99,\n",
       "       99, 44,  5,  4, 31, 34, 10, 13, 53, 75, 25, 56, 77, 41, 53, 72, 75,\n",
       "       67, 56, 44, 78, 29,  5, 37, 96, 55, 72, 73,  9, 73, 98, 43])"
      ]
     },
     "metadata": {},
     "execution_count": 29
    }
   ],
   "source": [
    "# x = np.array([6, 2, 0, 3, 0, 0, 5, 7, 0])\n",
    "N = 100\n",
    "x = np.random.randint(0, 100, N)\n",
    "x"
   ],
   "metadata": {
    "pycharm": {
     "name": "#%%\n"
    },
    "colab": {
     "base_uri": "https://localhost:8080/"
    },
    "id": "9QNxGygAOE6W",
    "executionInfo": {
     "status": "ok",
     "timestamp": 1647972931904,
     "user_tz": -180,
     "elapsed": 7,
     "user": {
      "displayName": "Рома -",
      "photoUrl": "https://lh3.googleusercontent.com/a-/AOh14GiIvJLUD1dCiLXZ7bVVlId3n4OEg8C8ydLWuPcFXQ=s64",
      "userId": "06927140356582614997"
     }
    },
    "outputId": "807feb54-1031-4488-a144-9fac4aea1dd7"
   }
  },
  {
   "cell_type": "markdown",
   "source": [
    "### 4.1"
   ],
   "metadata": {
    "collapsed": false,
    "pycharm": {
     "name": "#%% md\n"
    },
    "id": "oeMEPto3OE6W"
   }
  },
  {
   "cell_type": "code",
   "execution_count": 35,
   "outputs": [
    {
     "output_type": "stream",
     "name": "stdout",
     "text": [
      "100 loops, best of 5: 16.4 µs per loop\n"
     ]
    },
    {
     "output_type": "execute_result",
     "data": {
      "text/plain": [
       "0"
      ]
     },
     "metadata": {},
     "execution_count": 35
    }
   ],
   "source": [
    "def func4_1(x):\n",
    "    v = x == 0\n",
    "    bool_mass = np.concatenate([[False], v])[:-1]\n",
    "    if np.sum(bool_mass) == 0:\n",
    "      return -1\n",
    "    return np.max(x[bool_mass])\n",
    "%timeit -n 100 func4_1(x)\n",
    "func4_1(x)\n",
    "# 7.97 µs ± 2.38 µs per loop (mean ± std. dev. of 7 runs, 1,000 loops each) N = 100\n",
    "# 10.1 µs ± 5.16 µs per loop (mean ± std. dev. of 7 runs, 100 loops each) N = 1000\n",
    "# 19.6 µs ± 6.43 µs per loop (mean ± std. dev. of 7 runs, 100 loops each) N = 10000"
   ],
   "metadata": {
    "pycharm": {
     "name": "#%%\n"
    },
    "colab": {
     "base_uri": "https://localhost:8080/"
    },
    "id": "nq950AvXOE6X",
    "executionInfo": {
     "status": "ok",
     "timestamp": 1647973778978,
     "user_tz": -180,
     "elapsed": 246,
     "user": {
      "displayName": "Рома -",
      "photoUrl": "https://lh3.googleusercontent.com/a-/AOh14GiIvJLUD1dCiLXZ7bVVlId3n4OEg8C8ydLWuPcFXQ=s64",
      "userId": "06927140356582614997"
     }
    },
    "outputId": "7ad258aa-4fe3-497d-f0bc-5d9d868fedcb"
   }
  },
  {
   "cell_type": "markdown",
   "source": [
    "### 4.2"
   ],
   "metadata": {
    "collapsed": false,
    "pycharm": {
     "name": "#%% md\n"
    },
    "id": "8TMLzlBHOE6X"
   }
  },
  {
   "cell_type": "code",
   "execution_count": null,
   "outputs": [
    {
     "name": "stdout",
     "output_type": "stream",
     "text": [
      "23.6 µs ± 1.06 µs per loop (mean ± std. dev. of 7 runs, 100 loops each)\n"
     ]
    },
    {
     "data": {
      "text/plain": "93"
     },
     "execution_count": 16,
     "metadata": {},
     "output_type": "execute_result"
    }
   ],
   "source": [
    "def func4_2(x):\n",
    "    max = -100_000\n",
    "    for i in range(x.shape[0] - 1):\n",
    "        if (x[i] == 0):\n",
    "            if (x[i + 1] > max):\n",
    "                max = x[i + 1]\n",
    "    return max\n",
    "%timeit -n 100 func4_2(x)\n",
    "func4_2(x)\n",
    "# 24.8 µs ± 2.09 µs per loop (mean ± std. dev. of 7 runs, 1,000 loops each) N = 100\n",
    "# 208 µs ± 14.1 µs per loop (mean ± std. dev. of 7 runs, 100 loops each) N = 1000\n",
    "# 2.2 ms ± 222 µs per loop (mean ± std. dev. of 7 runs, 100 loops each) N = 10000"
   ],
   "metadata": {
    "pycharm": {
     "name": "#%%\n"
    },
    "id": "ytLj42CHOE6X",
    "outputId": "b7770d8c-6914-4982-fa04-8b8f6aebd38e"
   }
  },
  {
   "cell_type": "markdown",
   "source": [
    "### 4.3"
   ],
   "metadata": {
    "collapsed": false,
    "pycharm": {
     "name": "#%% md\n"
    },
    "id": "pJ1693UJOE6Y"
   }
  },
  {
   "cell_type": "code",
   "execution_count": null,
   "outputs": [
    {
     "name": "stdout",
     "output_type": "stream",
     "text": [
      "The slowest run took 5.50 times longer than the fastest. This could mean that an intermediate result is being cached.\n",
      "36.9 µs ± 34.9 µs per loop (mean ± std. dev. of 7 runs, 100 loops each)\n"
     ]
    },
    {
     "data": {
      "text/plain": "True"
     },
     "execution_count": 17,
     "metadata": {},
     "output_type": "execute_result"
    }
   ],
   "source": [
    "def func4_3(x):\n",
    "    is_x_index_zero = x == 0\n",
    "    bool_x_after_zero = np.concatenate([[False], is_x_index_zero])[:-1]\n",
    "    return np.max(bool_x_after_zero)\n",
    "%timeit -n 100 func4_2(x)\n",
    "func4_3(x)\n",
    "# 21.8 µs ± 2.15 µs per loop (mean ± std. dev. of 7 runs, 100 loops each) N = 100\n",
    "# 210 µs ± 3.29 µs per loop (mean ± std. dev. of 7 runs, 100 loops each) N = 1000\n",
    "# 2.69 ms ± 732 µs per loop (mean ± std. dev. of 7 runs, 100 loops each) N = 10000"
   ],
   "metadata": {
    "pycharm": {
     "name": "#%%\n"
    },
    "id": "ICmLusYuOE6Y",
    "outputId": "cba4d202-3f6e-4113-c1d9-a84b6382b59a"
   }
  },
  {
   "cell_type": "markdown",
   "source": [
    "### Вывод\n",
    "1) Способ решения с векторами - самый эффективный\n",
    "\n",
    "2) Способ решения с помощью сдвига индекса нулевых значений оказался самым худшим\n",
    "\n",
    "3) Третий способ решения одного порядка с решением с циклами"
   ],
   "metadata": {
    "id": "pVoA6VLO5L_t"
   }
  },
  {
   "cell_type": "markdown",
   "metadata": {
    "id": "Llk-ETsFOE6Y"
   },
   "source": [
    "### 5. Дан трёхмерный массив, содержащий изображение, размера (height, width, numChannels), а также вектор длины numChannels. Сложить каналы изображения с указанными весами, и вернуть результат в виде матрицы размера (height, width). Считать реальное изображение можно при помощи функции scipy.misc.imread (если изображение не в формате png, установите пакет pillow: conda install pillow). Преобразуйте цветное изображение в оттенки серого, использовав коэффициенты np.array([0.299, 0.587, 0.114])."
   ]
  },
  {
   "cell_type": "code",
   "execution_count": 36,
   "outputs": [],
   "source": [
    "import imageio"
   ],
   "metadata": {
    "pycharm": {
     "name": "#%%\n"
    },
    "id": "zIDujIBrOE6Y",
    "executionInfo": {
     "status": "ok",
     "timestamp": 1647974338033,
     "user_tz": -180,
     "elapsed": 320,
     "user": {
      "displayName": "Рома -",
      "photoUrl": "https://lh3.googleusercontent.com/a-/AOh14GiIvJLUD1dCiLXZ7bVVlId3n4OEg8C8ydLWuPcFXQ=s64",
      "userId": "06927140356582614997"
     }
    }
   }
  },
  {
   "cell_type": "code",
   "execution_count": 50,
   "outputs": [
    {
     "output_type": "execute_result",
     "data": {
      "text/plain": [
       "(100, 100, 3)"
      ]
     },
     "metadata": {},
     "execution_count": 50
    }
   ],
   "source": [
    "N = 100\n",
    "img = np.arange(N * N * 3).reshape(N, -1, 3)\n",
    "weights = np.array([0.299, 0.587, 0.114])\n",
    "# img = imageio.imread(\"1-campos-amapolas.jpg\")\n",
    "img.shape"
   ],
   "metadata": {
    "pycharm": {
     "name": "#%%\n"
    },
    "colab": {
     "base_uri": "https://localhost:8080/"
    },
    "id": "uUeH2Q3qOE6Z",
    "executionInfo": {
     "status": "ok",
     "timestamp": 1647975628401,
     "user_tz": -180,
     "elapsed": 441,
     "user": {
      "displayName": "Рома -",
      "photoUrl": "https://lh3.googleusercontent.com/a-/AOh14GiIvJLUD1dCiLXZ7bVVlId3n4OEg8C8ydLWuPcFXQ=s64",
      "userId": "06927140356582614997"
     }
    },
    "outputId": "63bb9b6f-fcbe-489c-80dd-e5a5625d95b8"
   }
  },
  {
   "cell_type": "markdown",
   "source": [
    "### 5.1"
   ],
   "metadata": {
    "collapsed": false,
    "id": "B9XVOcZWOE6Z"
   }
  },
  {
   "cell_type": "code",
   "execution_count": 51,
   "outputs": [
    {
     "output_type": "stream",
     "name": "stdout",
     "text": [
      "100 loops, best of 5: 275 µs per loop\n"
     ]
    }
   ],
   "source": [
    "def func5_1(img, weights):\n",
    "    return img.dot(weights)\n",
    "%timeit -n 100 func5_1(img, weights)\n",
    "# imageio.imwrite(uri=\"1-campos-amapolas_grey.jpg\", im=func5_1(img, weights))\n",
    "# 189 µs ± 13.7 µs per loop (mean ± std. dev. of 7 runs, 100 loops each) N = 100\n",
    "# 21.8 ms ± 2.38 ms per loop (mean ± std. dev. of 7 runs, 100 loops each) N = 1000"
   ],
   "metadata": {
    "pycharm": {
     "name": "#%%\n"
    },
    "colab": {
     "base_uri": "https://localhost:8080/"
    },
    "id": "QUTOcb5POE6Z",
    "executionInfo": {
     "status": "ok",
     "timestamp": 1647975642029,
     "user_tz": -180,
     "elapsed": 627,
     "user": {
      "displayName": "Рома -",
      "photoUrl": "https://lh3.googleusercontent.com/a-/AOh14GiIvJLUD1dCiLXZ7bVVlId3n4OEg8C8ydLWuPcFXQ=s64",
      "userId": "06927140356582614997"
     }
    },
    "outputId": "bd3d4649-b889-424a-fe33-a824c3d6b504"
   }
  },
  {
   "cell_type": "markdown",
   "source": [
    "### 5.2"
   ],
   "metadata": {
    "collapsed": false,
    "id": "0kGHF7WcOE6Z"
   }
  },
  {
   "cell_type": "code",
   "execution_count": 52,
   "outputs": [
    {
     "output_type": "stream",
     "name": "stdout",
     "text": [
      "100 loops, best of 5: 60.9 µs per loop\n"
     ]
    }
   ],
   "source": [
    "def func5_2(img, wetghts):\n",
    "    result = np.zeros((img.shape[0], img.shape[1]))\n",
    "    for i in range(wetghts.shape[0]):\n",
    "        result += img[:, :, i] * weights[i]\n",
    "    return result\n",
    "%timeit -n 100 func5_2(img, weights)\n",
    "# 116 µs ± 93.8 µs per loop (mean ± std. dev. of 7 runs, 100 loops each) N = 100\n",
    "# 7.49 ms ± 113 µs per loop (mean ± std. dev. of 7 runs, 100 loops each) N = 1000"
   ],
   "metadata": {
    "pycharm": {
     "name": "#%%\n"
    },
    "colab": {
     "base_uri": "https://localhost:8080/"
    },
    "id": "a5r5zp3jOE6Z",
    "executionInfo": {
     "status": "ok",
     "timestamp": 1647975646006,
     "user_tz": -180,
     "elapsed": 328,
     "user": {
      "displayName": "Рома -",
      "photoUrl": "https://lh3.googleusercontent.com/a-/AOh14GiIvJLUD1dCiLXZ7bVVlId3n4OEg8C8ydLWuPcFXQ=s64",
      "userId": "06927140356582614997"
     }
    },
    "outputId": "b1c5d979-5bbb-49e4-dc64-7e1dd488bb1b"
   }
  },
  {
   "cell_type": "markdown",
   "source": [
    "### 5.3"
   ],
   "metadata": {
    "collapsed": false,
    "id": "_w0_mAbyOE6a"
   }
  },
  {
   "cell_type": "code",
   "execution_count": 53,
   "outputs": [
    {
     "output_type": "stream",
     "name": "stdout",
     "text": [
      "100 loops, best of 5: 54 µs per loop\n"
     ]
    }
   ],
   "source": [
    "def func5_3(img, wetghts):\n",
    "    X = lambda i: img[:, :, i] * wetghts[i]\n",
    "    return X(0) + X(1) + X(2)\n",
    "%timeit -n 100 func5_3(img, weights)\n",
    "# 2.77 ms ± 796 µs per loop (mean ± std. dev. of 7 runs, 100 loops each) N = 100\n",
    "# 7.35 ms ± 1.5 ms per loop (mean ± std. dev. of 7 runs, 100 loops each) N = 1000"
   ],
   "metadata": {
    "pycharm": {
     "name": "#%%\n"
    },
    "colab": {
     "base_uri": "https://localhost:8080/"
    },
    "id": "6RUA2hKHOE6a",
    "executionInfo": {
     "status": "ok",
     "timestamp": 1647975647232,
     "user_tz": -180,
     "elapsed": 7,
     "user": {
      "displayName": "Рома -",
      "photoUrl": "https://lh3.googleusercontent.com/a-/AOh14GiIvJLUD1dCiLXZ7bVVlId3n4OEg8C8ydLWuPcFXQ=s64",
      "userId": "06927140356582614997"
     }
    },
    "outputId": "53dc5009-d411-480c-dcc8-39557d81b504"
   }
  },
  {
   "cell_type": "markdown",
   "source": [
    "### Вывод\n",
    "1) Способ решения с векторами оказался хуже, чем с циклами\n",
    "\n",
    "2) Способ решения с помощью лямбда функции оказался лучше способа с векторами при большом N\n",
    "\n",
    "3) Способ решения с помощью лямбда функции оказался плохим при малом N\n",
    "\n",
    "4) Спрособ решения с циклами в данном случае является самым оптимальным из 3-х алгоритмов"
   ],
   "metadata": {
    "collapsed": false,
    "id": "GWKiF1erOE6a"
   }
  },
  {
   "cell_type": "markdown",
   "metadata": {
    "id": "q4J6HzhMOE6b"
   },
   "source": [
    "### 6. Реализовать кодирование длин серий (Run-length encoding). Дан вектор x. Необходимо вернуть кортеж из двух векторов одинаковой длины. Первый содержит числа, а второй - сколько раз их нужно повторить. \n",
    "Пример: x = np.array([2, 2, 2, 3, 3, 3, 5]). Ответ: (np.array([2, 3, 5]), np.array([3, 3, 1]))."
   ]
  },
  {
   "cell_type": "code",
   "execution_count": 54,
   "outputs": [
    {
     "output_type": "execute_result",
     "data": {
      "text/plain": [
       "array([2, 2, 2, 3, 3, 3, 5, 3, 2, 2, 1])"
      ]
     },
     "metadata": {},
     "execution_count": 54
    }
   ],
   "source": [
    "x = np.array([2, 2, 2, 3, 3, 3, 5, 3, 2, 2 ,1])\n",
    "# N = 100\n",
    "# x = np.random.randint(0, 10, N)\n",
    "x"
   ],
   "metadata": {
    "pycharm": {
     "name": "#%%\n"
    },
    "colab": {
     "base_uri": "https://localhost:8080/"
    },
    "id": "0zqLotJ-OE6b",
    "executionInfo": {
     "status": "ok",
     "timestamp": 1647975648480,
     "user_tz": -180,
     "elapsed": 3,
     "user": {
      "displayName": "Рома -",
      "photoUrl": "https://lh3.googleusercontent.com/a-/AOh14GiIvJLUD1dCiLXZ7bVVlId3n4OEg8C8ydLWuPcFXQ=s64",
      "userId": "06927140356582614997"
     }
    },
    "outputId": "08a5a5bc-3817-4399-a401-f53d026611f6"
   }
  },
  {
   "cell_type": "markdown",
   "source": [
    "### 6.1"
   ],
   "metadata": {
    "collapsed": false,
    "id": "7Oo8k0uROE6b"
   }
  },
  {
   "cell_type": "code",
   "execution_count": 59,
   "outputs": [
    {
     "output_type": "stream",
     "name": "stdout",
     "text": [
      "(array([2, 3, 5, 1]), array([5, 4, 1, 1]))\n"
     ]
    }
   ],
   "source": [
    "def func6_1(x):\n",
    "    vals, ids, counts = np.unique(x, return_index=True, return_counts=True)\n",
    "    index = np.argsort(ids)\n",
    "    return vals[index], counts[index]\n",
    "print(func6_1(x))"
   ],
   "metadata": {
    "pycharm": {
     "name": "#%%\n"
    },
    "colab": {
     "base_uri": "https://localhost:8080/"
    },
    "id": "h0VxprisOE6b",
    "executionInfo": {
     "status": "ok",
     "timestamp": 1647976129882,
     "user_tz": -180,
     "elapsed": 283,
     "user": {
      "displayName": "Рома -",
      "photoUrl": "https://lh3.googleusercontent.com/a-/AOh14GiIvJLUD1dCiLXZ7bVVlId3n4OEg8C8ydLWuPcFXQ=s64",
      "userId": "06927140356582614997"
     }
    },
    "outputId": "402b0683-43ae-4f48-fde8-5df4c7aa75e8"
   }
  },
  {
   "cell_type": "markdown",
   "source": [
    "### 6.2"
   ],
   "metadata": {
    "collapsed": false,
    "id": "ocV8Ae6cOE6c"
   }
  },
  {
   "cell_type": "code",
   "execution_count": 60,
   "outputs": [
    {
     "output_type": "stream",
     "name": "stdout",
     "text": [
      "100 loops, best of 5: 4.52 µs per loop\n",
      "([2, 3, 5, 3, 2, 1], [3, 3, 1, 1, 2, 1])\n"
     ]
    }
   ],
   "source": [
    "def func6_2(x):\n",
    "    result_key = [x[0]]\n",
    "    result_item = [1]\n",
    "    for i in range(1, x.shape[0]):\n",
    "        if x[i] == result_key[-1]:\n",
    "            result_item[-1] += 1\n",
    "        else:\n",
    "            result_key.append(x[i])\n",
    "            result_item.append(1)\n",
    "    return result_key, result_item\n",
    "%timeit -n 100 func6_2(x)\n",
    "print(func6_2(x))\n",
    "# 31.6 µs ± 3.52 µs per loop (mean ± std. dev. of 7 runs, 100 loops each) N = 100\n",
    "# 290 µs ± 35.8 µs per loop (mean ± std. dev. of 7 runs, 100 loops each) N = 1000\n",
    "# 3.16 ms ± 658 µs per loop (mean ± std. dev. of 7 runs, 100 loops each) N = 10000"
   ],
   "metadata": {
    "pycharm": {
     "name": "#%%\n"
    },
    "colab": {
     "base_uri": "https://localhost:8080/"
    },
    "id": "HtPyMcsAOE6c",
    "executionInfo": {
     "status": "ok",
     "timestamp": 1647976131221,
     "user_tz": -180,
     "elapsed": 4,
     "user": {
      "displayName": "Рома -",
      "photoUrl": "https://lh3.googleusercontent.com/a-/AOh14GiIvJLUD1dCiLXZ7bVVlId3n4OEg8C8ydLWuPcFXQ=s64",
      "userId": "06927140356582614997"
     }
    },
    "outputId": "f431558f-a9c0-43c9-8042-1373ab3e91e0"
   }
  },
  {
   "cell_type": "markdown",
   "source": [
    "### 6.3"
   ],
   "metadata": {
    "collapsed": false,
    "id": "caQ8QKWgOE6c"
   }
  },
  {
   "cell_type": "code",
   "execution_count": 61,
   "outputs": [],
   "source": [
    "from itertools import groupby"
   ],
   "metadata": {
    "pycharm": {
     "name": "#%%\n"
    },
    "id": "mNUBn3LdOE6c",
    "executionInfo": {
     "status": "ok",
     "timestamp": 1647976132717,
     "user_tz": -180,
     "elapsed": 1,
     "user": {
      "displayName": "Рома -",
      "photoUrl": "https://lh3.googleusercontent.com/a-/AOh14GiIvJLUD1dCiLXZ7bVVlId3n4OEg8C8ydLWuPcFXQ=s64",
      "userId": "06927140356582614997"
     }
    }
   }
  },
  {
   "cell_type": "code",
   "execution_count": 62,
   "outputs": [
    {
     "output_type": "stream",
     "name": "stdout",
     "text": [
      "100 loops, best of 5: 5.25 µs per loop\n"
     ]
    }
   ],
   "source": [
    "def func6_3(x):\n",
    "    _key = []\n",
    "    _item = []\n",
    "    for key, group in groupby(x):\n",
    "        _key.append(key)\n",
    "        _item.append(len(tuple(group)))\n",
    "    return _key, _item\n",
    "%timeit -n 100 func6_3(x)\n",
    "# 39.5 µs ± 1.23 µs per loop (mean ± std. dev. of 7 runs, 100 loops each) N = 100\n",
    "# 385 µs ± 8.82 µs per loop (mean ± std. dev. of 7 runs, 100 loops each) N = 1000\n",
    "# 3.57 ms ± 32.6 µs per loop (mean ± std. dev. of 7 runs, 100 loops each) N = 10000"
   ],
   "metadata": {
    "pycharm": {
     "name": "#%%\n"
    },
    "colab": {
     "base_uri": "https://localhost:8080/"
    },
    "id": "UEHzCcUyOE6c",
    "executionInfo": {
     "status": "ok",
     "timestamp": 1647976133143,
     "user_tz": -180,
     "elapsed": 3,
     "user": {
      "displayName": "Рома -",
      "photoUrl": "https://lh3.googleusercontent.com/a-/AOh14GiIvJLUD1dCiLXZ7bVVlId3n4OEg8C8ydLWuPcFXQ=s64",
      "userId": "06927140356582614997"
     }
    },
    "outputId": "f9ccc373-4207-4551-dbec-bbd9d20cbef4"
   }
  },
  {
   "cell_type": "markdown",
   "source": [
    "### Вывод\n",
    "1) Способ решения с циклами и с применением groupby из библиотеки itertools обладают одинаковым ростом времени работы в зависимости от N\n",
    "\n",
    "2) Способ решения с циклами немного быстрее, чем 3-й способ"
   ],
   "metadata": {
    "collapsed": false,
    "id": "x_Yspg3ZOE6d"
   }
  },
  {
   "cell_type": "markdown",
   "metadata": {
    "id": "9jkp_ZEWOE6d"
   },
   "source": [
    "### 7. Даны две выборки объектов - X и Y. Вычислить матрицу евклидовых расстояний между объектами. Сравнить с функцией scipy.spatial.distance.cdist."
   ]
  },
  {
   "cell_type": "code",
   "execution_count": 63,
   "outputs": [],
   "source": [
    "from scipy.spatial.distance import cdist"
   ],
   "metadata": {
    "pycharm": {
     "name": "#%%\n"
    },
    "id": "CCw9hiEmOE6d",
    "executionInfo": {
     "status": "ok",
     "timestamp": 1647976135679,
     "user_tz": -180,
     "elapsed": 252,
     "user": {
      "displayName": "Рома -",
      "photoUrl": "https://lh3.googleusercontent.com/a-/AOh14GiIvJLUD1dCiLXZ7bVVlId3n4OEg8C8ydLWuPcFXQ=s64",
      "userId": "06927140356582614997"
     }
    }
   }
  },
  {
   "cell_type": "code",
   "execution_count": 64,
   "outputs": [
    {
     "output_type": "stream",
     "name": "stdout",
     "text": [
      "[[11 13 31 ... 36 85 57]\n",
      " [31 64 79 ... 33 22  6]\n",
      " [68  9 18 ... 54 16 65]\n",
      " ...\n",
      " [57 19 68 ... 55 45 10]\n",
      " [78 27 88 ... 39 40 42]\n",
      " [39  1  6 ... 97 82  3]] [[27 41 15 ... 36 32 69]\n",
      " [96 18 55 ... 59 60 33]\n",
      " [ 8 84 23 ... 73 69 38]\n",
      " ...\n",
      " [97 52 17 ... 65 19  8]\n",
      " [58 85 39 ... 44 80 26]\n",
      " [10  5 79 ... 16 74 93]]\n"
     ]
    }
   ],
   "source": [
    "N = 100\n",
    "X = np.random.randint(0, 100, (N, N))\n",
    "Y = np.random.randint(0, 100, (N, N))\n",
    "print(X, Y)"
   ],
   "metadata": {
    "pycharm": {
     "name": "#%%\n"
    },
    "colab": {
     "base_uri": "https://localhost:8080/"
    },
    "id": "-QyDV7YDOE6d",
    "executionInfo": {
     "status": "ok",
     "timestamp": 1647976137029,
     "user_tz": -180,
     "elapsed": 8,
     "user": {
      "displayName": "Рома -",
      "photoUrl": "https://lh3.googleusercontent.com/a-/AOh14GiIvJLUD1dCiLXZ7bVVlId3n4OEg8C8ydLWuPcFXQ=s64",
      "userId": "06927140356582614997"
     }
    },
    "outputId": "45907d47-bd81-40ea-dd19-5df19969bc22"
   }
  },
  {
   "cell_type": "markdown",
   "source": [
    "### 7.1"
   ],
   "metadata": {
    "collapsed": false,
    "id": "jhgCTKGMOE6e"
   }
  },
  {
   "cell_type": "code",
   "execution_count": 65,
   "outputs": [
    {
     "output_type": "stream",
     "name": "stdout",
     "text": [
      "10 loops, best of 5: 1.21 ms per loop\n"
     ]
    }
   ],
   "source": [
    "def func7_1(x, y):\n",
    "    P = np.add.outer(np.sum(x**2, axis=1), np.sum(y**2, axis=1))\n",
    "    N = np.dot(x, y.T)\n",
    "    return np.sqrt(P - 2*N)\n",
    "# print(cdist(X, Y) - func7_1(X, Y))\n",
    "%timeit -n 10 func7_1(X, Y)\n",
    "# 699 µs ± 30.5 µs per loop (mean ± std. dev. of 7 runs, 100 loops each) N = 100\n",
    "# 620 ms ± 45 ms per loop (mean ± std. dev. of 7 runs, 1 loop each) N = 1000\n",
    "# 5.05 s ± 408 ms per loop (mean ± std. dev. of 7 runs, 1 loop each) N = 2000"
   ],
   "metadata": {
    "pycharm": {
     "name": "#%%\n"
    },
    "colab": {
     "base_uri": "https://localhost:8080/"
    },
    "id": "9hwfT8ETOE6e",
    "executionInfo": {
     "status": "ok",
     "timestamp": 1647976138180,
     "user_tz": -180,
     "elapsed": 5,
     "user": {
      "displayName": "Рома -",
      "photoUrl": "https://lh3.googleusercontent.com/a-/AOh14GiIvJLUD1dCiLXZ7bVVlId3n4OEg8C8ydLWuPcFXQ=s64",
      "userId": "06927140356582614997"
     }
    },
    "outputId": "c71df68a-23d5-4217-fbe3-d9a04bfd19e0"
   }
  },
  {
   "cell_type": "markdown",
   "source": [
    "### 7.2"
   ],
   "metadata": {
    "collapsed": false,
    "id": "Hppe_HZLOE6e"
   }
  },
  {
   "cell_type": "code",
   "execution_count": 66,
   "outputs": [
    {
     "output_type": "stream",
     "name": "stdout",
     "text": [
      "[[0. 0. 0. ... 0. 0. 0.]\n",
      " [0. 0. 0. ... 0. 0. 0.]\n",
      " [0. 0. 0. ... 0. 0. 0.]\n",
      " ...\n",
      " [0. 0. 0. ... 0. 0. 0.]\n",
      " [0. 0. 0. ... 0. 0. 0.]\n",
      " [0. 0. 0. ... 0. 0. 0.]]\n",
      "10 loops, best of 5: 75.3 ms per loop\n"
     ]
    }
   ],
   "source": [
    "def func7_2(x, y):\n",
    "    d = np.zeros_like(x)\n",
    "    for i in range(x.shape[0]):\n",
    "        for j in range(x.shape[1]):\n",
    "            d[i, j] = np.sum(abs(x[i, :] - y[j, :]) ** 2)\n",
    "    return np.sqrt(d)\n",
    "print(cdist(X, Y) - func7_2(X, Y))\n",
    "%timeit -n 10 func7_2(X, Y)\n",
    "# 48.3 ms ± 3.89 ms per loop (mean ± std. dev. of 7 runs, 10 loops each) N = 100\n",
    "# 6.63 s ± 104 ms per loop (mean ± std. dev. of 7 runs, 1 loop each) N = 1000"
   ],
   "metadata": {
    "pycharm": {
     "name": "#%%\n"
    },
    "colab": {
     "base_uri": "https://localhost:8080/"
    },
    "id": "4Qj9f3GwOE6e",
    "executionInfo": {
     "status": "ok",
     "timestamp": 1647976143728,
     "user_tz": -180,
     "elapsed": 4476,
     "user": {
      "displayName": "Рома -",
      "photoUrl": "https://lh3.googleusercontent.com/a-/AOh14GiIvJLUD1dCiLXZ7bVVlId3n4OEg8C8ydLWuPcFXQ=s64",
      "userId": "06927140356582614997"
     }
    },
    "outputId": "a370e852-433e-4a9f-8174-24b57955f251"
   }
  },
  {
   "cell_type": "markdown",
   "source": [
    "### 7.3"
   ],
   "metadata": {
    "collapsed": false,
    "id": "MASCONCeOE6e"
   }
  },
  {
   "cell_type": "code",
   "execution_count": 67,
   "outputs": [
    {
     "output_type": "stream",
     "name": "stdout",
     "text": [
      "10 loops, best of 5: 1.31 ms per loop\n"
     ]
    }
   ],
   "source": [
    "def func7_3(X, Y):\n",
    "    YT = Y.transpose()\n",
    "    vecProd = np.dot(X,YT)\n",
    "\n",
    "    SqX =  X**2\n",
    "    sumSqX = np.matrix(np.sum(SqX, axis=1))\n",
    "    sumSqXEx = np.tile(sumSqX.transpose(), (1, vecProd.shape[1]))\n",
    "\n",
    "    SqY = Y**2\n",
    "    sumSqY = np.matrix(np.sum(SqY, axis=1))\n",
    "    sumSqYEx = np.tile(sumSqY, (vecProd.shape[0], 1))\n",
    "\n",
    "    SqED = sumSqYEx + sumSqXEx - 2*vecProd\n",
    "    SqED[SqED<0]=0.0\n",
    "    ED = np.sqrt(SqED)\n",
    "    return ED\n",
    "# print(cdist(X, Y) - func7_3(X, Y))\n",
    "%timeit -n 10 func7_3(X, Y)\n",
    "# 1.07 ms ± 321 µs per loop (mean ± std. dev. of 7 runs, 10 loops each) N = 100\n",
    "# 617 ms ± 17.8 ms per loop (mean ± std. dev. of 7 runs, 10 loops each) N = 1000\n",
    "# 4.72 s ± 563 ms per loop (mean ± std. dev. of 7 runs, 1 loop each) N = 2000"
   ],
   "metadata": {
    "pycharm": {
     "name": "#%%\n"
    },
    "colab": {
     "base_uri": "https://localhost:8080/"
    },
    "id": "dOKJX0phOE6f",
    "executionInfo": {
     "status": "ok",
     "timestamp": 1647976143728,
     "user_tz": -180,
     "elapsed": 4,
     "user": {
      "displayName": "Рома -",
      "photoUrl": "https://lh3.googleusercontent.com/a-/AOh14GiIvJLUD1dCiLXZ7bVVlId3n4OEg8C8ydLWuPcFXQ=s64",
      "userId": "06927140356582614997"
     }
    },
    "outputId": "ab5bd3d0-b5cc-457a-8204-529b11621441"
   }
  },
  {
   "cell_type": "markdown",
   "source": [
    "### Вывод\n",
    "1) Способ решения с векторами оказался намного лучше, чем с циклами\n",
    "2) Скорость роста времени работы от N способа решения с циклами на порядок меньше, чем у способа с векторами\n",
    "3) Эффективность третьего способа решения (наиболее хорошо читаемый способ) в среднем аналогична решения с циклами.\n",
    "4) Результат корректности выполнения алгоритма выполняется с помощью функции from scipy.spatial.distance.cdist(X, Y)"
   ],
   "metadata": {
    "collapsed": false,
    "id": "i-dsgmYiOE6f"
   }
  },
  {
   "cell_type": "markdown",
   "metadata": {
    "ExecuteTime": {
     "end_time": "2021-10-04T16:02:41.398576Z",
     "start_time": "2021-10-04T16:02:41.395795Z"
    },
    "id": "xkx3eYvPOE6f"
   },
   "source": [
    "##### Замечание. Можно считать, что все указанные объекты непустые (к примеру, в задаче №1 на диагонали матрицы есть ненулевые элементы).\n",
    "Полезные функции NumPy: np.zeros, np.ones, np.diag, np.eye, np.arange, np.linspace, np.meshgrid,\n",
    "np.random.random, np.random.randint, np.shape, np.reshape, np.transpose, np.any, np.all, np.nonzero, np.where,\n",
    "np.sum, np.cumsum, np.prod, np.diff, np.min, np.max, np.minimum, np.maximum, np.argmin, np.argmax, np.unique,\n",
    "np.sort, np.argsort, np.bincount, np.ravel, np.newaxis, np.dot, np.linalg.inv, np.linalg.solve.\n",
    "Многие из этих функций можно использовать так: x.argmin()."
   ]
  },
  {
   "cell_type": "markdown",
   "metadata": {
    "id": "1FWEHuGZOE6g"
   },
   "source": [
    "# Для каждой из задач:\n",
    "(a) Написать на Python + NumPy несколько вариантов кода различной эффективности. Должно быть не\n",
    "менее трёх вариантов, в том числе как минимум один полностью векторизованный вариант (без циклов), и один\n",
    "вариант без векторизации (с циклами). Третий вариант решения — на ваше усмотрение, например, это может быть\n",
    "наиболее хорошо читаемый способ решения, или частично векторизованный вариант. Все пункты выполнять в одном google collab, разделяя их пунктами 1., 1.1, 1.2, 1.3; 2., 2.1, 2.2, 2.3; и тд.\n",
    "\n",
    "(b) Сравнить в IPython Notebook при помощи %timeit скорость работы на нескольких тестовых наборах\n",
    "РАЗНОГО размера (минимум 3, причём отличаться размеры входных данных должны минимум на порядок. Например, массивы длины 100, 1000, 10000).\n",
    "\n",
    "(c) Проанализировать полученные данные о скорости работы разных реализаций.\n",
    "\n",
    "(d) Получить выводы."
   ]
  }
 ],
 "metadata": {
  "kernelspec": {
   "name": "introduction_ml",
   "language": "python",
   "display_name": "introduction_ml"
  },
  "language_info": {
   "codemirror_mode": {
    "name": "ipython",
    "version": 3
   },
   "file_extension": ".py",
   "mimetype": "text/x-python",
   "name": "python",
   "nbconvert_exporter": "python",
   "pygments_lexer": "ipython3",
   "version": "3.7.3"
  },
  "colab": {
   "name": "HW1.ipynb",
   "provenance": [],
   "collapsed_sections": []
  }
 },
 "nbformat": 4,
 "nbformat_minor": 0
}