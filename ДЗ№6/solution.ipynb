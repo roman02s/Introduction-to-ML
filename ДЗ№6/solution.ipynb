{
 "cells": [
  {
   "cell_type": "code",
   "execution_count": 1,
   "id": "00d332f8",
   "metadata": {},
   "outputs": [],
   "source": [
    "import hashlib \n",
    "from pathlib import Path\n",
    "from typing import Iterable, List, Dict, Tuple, Set\n",
    "from collections import defaultdict, Counter\n",
    "from functools import lru_cache\n",
    "from copy import deepcopy\n",
    "\n",
    "import nltk\n",
    "import pandas as pd\n",
    "import numpy as np\n",
    "import matplotlib.pyplot as plt\n",
    "import seaborn as sns\n",
    "plt.style.use('ggplot')\n",
    "from crowdkit.aggregation import ROVER\n",
    "from tqdm.auto import tqdm\n",
    "\n",
    "\n",
    "def edit_distance(ref: Iterable, hyp: Iterable) -> int:\n",
    "    \"\"\"\n",
    "    dynamic programming levenshtein implementation O(n^2)\n",
    "    \"\"\"\n",
    "    \n",
    "    dist = np.zeros((len(hyp) + 1, len(ref) + 1), dtype=np.int32)\n",
    "    \n",
    "    dist[:, 0] = np.arange(len(hyp) + 1)\n",
    "    dist[0, :] = np.arange(len(ref) + 1)\n",
    "\n",
    "    for i, r in enumerate(hyp, start=1):\n",
    "        for j, h in enumerate(ref, start=1):\n",
    "            dist[i, j] = min(\n",
    "                dist[i - 1, j - 1] + (r != h),\n",
    "                dist[i, j - 1] + 1,\n",
    "                dist[i - 1, j] + 1\n",
    "            )\n",
    "            \n",
    "    return dist[-1, -1]\n",
    "\n",
    "\n",
    "def error_rate(refs: Iterable[Iterable], hyps: Iterable[Iterable]) -> float:\n",
    "    \"\"\"\n",
    "    ignoring hypotheses with empty references\n",
    "    \"\"\"\n",
    "    \n",
    "    wrong_words, all_words = 0, 0\n",
    "    \n",
    "    for ref, hyp in zip(refs, hyps):\n",
    "        if len(ref) > 0:\n",
    "            wrong_words += edit_distance(ref, hyp)\n",
    "            all_words += len(ref)\n",
    "        else:\n",
    "            continue\n",
    "    return wrong_words / all_words\n",
    "\n",
    "\n",
    "def wer(refs: Iterable[str], hyps: Iterable[str]) -> float:\n",
    "    \"\"\"\n",
    "    Word Error Rate\n",
    "    \"\"\"\n",
    "    return error_rate(\n",
    "        [ref.split() for ref in refs],\n",
    "        [hyp.split() for hyp in hyps]\n",
    "    )"
   ]
  },
  {
   "cell_type": "code",
   "execution_count": 2,
   "id": "6dc1542a",
   "metadata": {},
   "outputs": [
    {
     "name": "stdout",
     "output_type": "stream",
     "text": [
      "bad file: maratgasanov\n"
     ]
    },
    {
     "data": {
      "image/png": "[encoded data removed]",
      "text/plain": [
       "<Figure size 432x288 with 1 Axes>"
      ]
     },
     "metadata": {},
     "output_type": "display_data"
    },
    {
     "data": {
      "text/html": [
       "<div>\n",
       "<style scoped>\n",
       "    .dataframe tbody tr th:only-of-type {\n",
       "        vertical-align: middle;\n",
       "    }\n",
       "\n",
       "    .dataframe tbody tr th {\n",
       "        vertical-align: top;\n",
       "    }\n",
       "\n",
       "    .dataframe thead th {\n",
       "        text-align: right;\n",
       "    }\n",
       "</style>\n",
       "<table border=\"1\" class=\"dataframe\">\n",
       "  <thead>\n",
       "    <tr style=\"text-align: right;\">\n",
       "      <th></th>\n",
       "      <th>name</th>\n",
       "      <th>WER</th>\n",
       "    </tr>\n",
       "  </thead>\n",
       "  <tbody>\n",
       "    <tr>\n",
       "      <th>0</th>\n",
       "      <td>Коленков</td>\n",
       "      <td>0.524106</td>\n",
       "    </tr>\n",
       "    <tr>\n",
       "      <th>1</th>\n",
       "      <td>Ермаков</td>\n",
       "      <td>0.524337</td>\n",
       "    </tr>\n",
       "    <tr>\n",
       "      <th>2</th>\n",
       "      <td>Khazhiev.json</td>\n",
       "      <td>0.546814</td>\n",
       "    </tr>\n",
       "    <tr>\n",
       "      <th>3</th>\n",
       "      <td>Popov</td>\n",
       "      <td>0.553845</td>\n",
       "    </tr>\n",
       "    <tr>\n",
       "      <th>4</th>\n",
       "      <td>Gamarnik</td>\n",
       "      <td>0.564365</td>\n",
       "    </tr>\n",
       "    <tr>\n",
       "      <th>5</th>\n",
       "      <td>Ivan_Malakhov</td>\n",
       "      <td>0.571524</td>\n",
       "    </tr>\n",
       "    <tr>\n",
       "      <th>6</th>\n",
       "      <td>Кежаев</td>\n",
       "      <td>0.627024</td>\n",
       "    </tr>\n",
       "    <tr>\n",
       "      <th>7</th>\n",
       "      <td>Kashurin</td>\n",
       "      <td>0.644036</td>\n",
       "    </tr>\n",
       "    <tr>\n",
       "      <th>8</th>\n",
       "      <td>Ustsov</td>\n",
       "      <td>0.644036</td>\n",
       "    </tr>\n",
       "    <tr>\n",
       "      <th>9</th>\n",
       "      <td>Safonov</td>\n",
       "      <td>0.644036</td>\n",
       "    </tr>\n",
       "    <tr>\n",
       "      <th>10</th>\n",
       "      <td>Bardik Eduard</td>\n",
       "      <td>0.644036</td>\n",
       "    </tr>\n",
       "    <tr>\n",
       "      <th>11</th>\n",
       "      <td>Sim</td>\n",
       "      <td>0.644036</td>\n",
       "    </tr>\n",
       "    <tr>\n",
       "      <th>12</th>\n",
       "      <td>Bezrukov</td>\n",
       "      <td>0.644036</td>\n",
       "    </tr>\n",
       "    <tr>\n",
       "      <th>13</th>\n",
       "      <td>trenev</td>\n",
       "      <td>0.647602</td>\n",
       "    </tr>\n",
       "    <tr>\n",
       "      <th>14</th>\n",
       "      <td>Мельничук</td>\n",
       "      <td>0.655351</td>\n",
       "    </tr>\n",
       "  </tbody>\n",
       "</table>\n",
       "</div>"
      ],
      "text/plain": [
       "             name       WER\n",
       "0        Коленков  0.524106\n",
       "1         Ермаков  0.524337\n",
       "2   Khazhiev.json  0.546814\n",
       "3           Popov  0.553845\n",
       "4        Gamarnik  0.564365\n",
       "5   Ivan_Malakhov  0.571524\n",
       "6          Кежаев  0.627024\n",
       "7        Kashurin  0.644036\n",
       "8          Ustsov  0.644036\n",
       "9         Safonov  0.644036\n",
       "10  Bardik Eduard  0.644036\n",
       "11            Sim  0.644036\n",
       "12       Bezrukov  0.644036\n",
       "13         trenev  0.647602\n",
       "14      Мельничук  0.655351"
      ]
     },
     "execution_count": 2,
     "metadata": {},
     "output_type": "execute_result"
    }
   ],
   "source": [
    "prefix = \"noisy_text_aggregation_test_prediction_\"\n",
    "\n",
    "student2prediction_df = {\n",
    "    path.stem[len(prefix):]: pd.read_json(path, lines=True)\n",
    "    for path in Path(\"student_works\").iterdir()\n",
    "}\n",
    "\n",
    "answer_df = pd.read_json(\"noisy_text_aggregation_test_answer.jsonl\", lines=True)\n",
    "\n",
    "student2wer = {}\n",
    "\n",
    "for student, df in student2prediction_df.items():\n",
    "    try:\n",
    "        merged_df = pd.merge(df, answer_df, on='task')\n",
    "        student2wer[student] = wer(merged_df['text'], merged_df['prediction'])\n",
    "    except:\n",
    "        print(f'bad file: {student}')\n",
    "        \n",
    "plt.hist(student2wer.values(), bins=50)\n",
    "plt.xlabel(\"test Word Error Rate\")\n",
    "plt.ylabel(\"student count\")\n",
    "plt.show()\n",
    "\n",
    "results = (\n",
    "    pd.DataFrame(student2wer.items(), columns=['name', 'WER'])\n",
    "    .sort_values(\"WER\")\n",
    "    .reset_index(drop=True)\n",
    ")\n",
    "\n",
    "results"
   ]
  },
  {
   "cell_type": "markdown",
   "id": "111c579a",
   "metadata": {},
   "source": [
    "# Solution"
   ]
  },
  {
   "cell_type": "code",
   "execution_count": 3,
   "id": "4892c6d4",
   "metadata": {},
   "outputs": [],
   "source": [
    "def hash_remainder(str_, base: int=10) -> int:\n",
    "    return int(hashlib.md5(str_.encode()).hexdigest(), 16) % base\n",
    "\n",
    "train_df = pd.read_json(\"./noisy_text_aggregation_train.jsonl\", lines=True)\n",
    "\n",
    "train_mask = train_df['task'].apply(lambda x: hash_remainder(x, 10) <= 7)\n",
    "\n",
    "val_df = train_df[~train_mask].reset_index(drop=True)\n",
    "train_df = train_df[train_mask].reset_index(drop=True)"
   ]
  },
  {
   "cell_type": "markdown",
   "id": "0c91e812",
   "metadata": {},
   "source": [
    "## ROVER\n",
    "\n",
    "Recognizer Output Voting Error Reduction"
   ]
  },
  {
   "cell_type": "code",
   "execution_count": 4,
   "id": "f9f981ba",
   "metadata": {},
   "outputs": [],
   "source": [
    "base_rover = ROVER(\n",
    "    tokenizer=lambda x: list(x),\n",
    "    detokenizer=lambda x: \"\".join(x)\n",
    ")"
   ]
  },
  {
   "cell_type": "code",
   "execution_count": 5,
   "id": "8efa5297",
   "metadata": {},
   "outputs": [],
   "source": [
    "hyps = ['игорем ивановичем гусевым', 'игарем ивановичем гусивым', 'игре ивановича гусевам']"
   ]
  },
  {
   "cell_type": "code",
   "execution_count": 6,
   "id": "148a8029",
   "metadata": {},
   "outputs": [],
   "source": [
    "wtn = base_rover._build_word_transition_network(hyps)"
   ]
  },
  {
   "cell_type": "code",
   "execution_count": 7,
   "id": "90bba3cb",
   "metadata": {},
   "outputs": [
    {
     "name": "stdout",
     "output_type": "stream",
     "text": [
      "иг(о:1,а:1,:1)ре(м:2,:1) иванович(е:2,:1)(м:2,а:1) гус(е:2,и:1)в(ы:2,а:1)м"
     ]
    }
   ],
   "source": [
    "def print_wtn(wtn: dict) -> None:\n",
    "    result = ''\n",
    "    for node in wtn:\n",
    "        if len(node) == 1:\n",
    "            print(next(iter(node.keys())), end='')\n",
    "        else:\n",
    "            print(\n",
    "                \"(\" + \",\".join([f\"{k}:{v.sources_count}\" for k,v in node.items()]) + \")\"\n",
    "                ,\n",
    "                end=''\n",
    "            )\n",
    "\n",
    "\n",
    "print_wtn(wtn)"
   ]
  },
  {
   "cell_type": "code",
   "execution_count": 8,
   "id": "67f4bef2",
   "metadata": {},
   "outputs": [
    {
     "data": {
      "text/plain": [
       "'игорем ивановичем гусевым'"
      ]
     },
     "execution_count": 8,
     "metadata": {},
     "output_type": "execute_result"
    }
   ],
   "source": [
    "base_rover.detokenizer(\n",
    "    base_rover._get_result(wtn)\n",
    ")"
   ]
  },
  {
   "cell_type": "code",
   "execution_count": 9,
   "id": "e41922cb",
   "metadata": {},
   "outputs": [
    {
     "name": "stdout",
     "output_type": "stream",
     "text": [
      "weak  : александро игрривиче корнеева\n",
      "strong: александро игрривича корнеева\n",
      "true  : александра игоревича корнеева\n",
      "##################################################\n",
      "weak  : виталия\n",
      "strong: виталя\n",
      "true  : виталя\n",
      "##################################################\n",
      "weak  : светлание федоров немомедовай\n",
      "strong: светлане федоров немомедовай\n",
      "true  : светлане федоровне мамедовой\n",
      "##################################################\n",
      "weak  : на тальи лионтивой\n",
      "strong: на тальи лионьивой\n",
      "true  : натальи леонтьевой\n",
      "##################################################\n",
      "weak  : солтаны хосановича белога\n",
      "strong: солтана хосановича белога\n",
      "true  : солтана хасановича белова\n",
      "##################################################\n",
      "weak  : озайцы вым\n",
      "strong: пзайцы вым\n",
      "true  : зайцевым\n",
      "##################################################\n",
      "weak  : алочку александрогу\n",
      "strong: алочку александрову\n",
      "true  : аллочку александрову\n",
      "##################################################\n",
      "weak  : сера мосщеткави\n",
      "strong: сера осщеткави\n",
      "true  : сером ощепкове\n",
      "##################################################\n",
      "weak  : яяраславцеовом\n",
      "strong: яяраславцевам\n",
      "true  : ярославцевым\n",
      "##################################################\n",
      "weak  : водимом александровичем дюбиеным\n",
      "strong: водимом александровичем дюбининым\n",
      "true  : вадимом александровичем дубининым\n",
      "##################################################\n"
     ]
    }
   ],
   "source": [
    "printed = 0\n",
    "\n",
    "for id_ in range(100):\n",
    "    weak_order = ['qnet', 'w2v_tts', 'w2v']\n",
    "    strong_order = ['w2v', 'w2v_tts', 'qnet']\n",
    "    \n",
    "    weak_wtn = base_rover._build_word_transition_network(train_df[weak_order].values[id_])\n",
    "    strong_wtn = base_rover._build_word_transition_network(train_df[strong_order].values[id_])\n",
    "    \n",
    "    weak_result = base_rover.detokenizer(base_rover._get_result(weak_wtn))\n",
    "    strong_result = base_rover.detokenizer(base_rover._get_result(strong_wtn))\n",
    "    \n",
    "    if weak_result != strong_result:\n",
    "        print(f\"weak  : {weak_result}\")\n",
    "        print(f\"strong: {strong_result}\")\n",
    "        print(f\"true  : {train_df['text'].values[id_]}\")\n",
    "        print(\"#\" * 50)\n",
    "        printed += 1\n",
    "    if printed == 10:\n",
    "        break"
   ]
  },
  {
   "cell_type": "code",
   "execution_count": 10,
   "id": "c951ec57",
   "metadata": {},
   "outputs": [],
   "source": [
    "class PriorityROVER(ROVER):\n",
    "    \n",
    "    def fit(self, data):\n",
    "        \"\"\"\n",
    "        Fits the model. The aggregated results are saved to the `texts_` attribute.\n",
    "        \"\"\"\n",
    "\n",
    "        result = {}\n",
    "        grouped_tasks = data.groupby('task') if self.silent else tqdm(data.groupby('task'))\n",
    "        for task, df in grouped_tasks:\n",
    "            \n",
    "            df.sort_values(\"priority\", inplace=True) # !!!\n",
    "            \n",
    "            hypotheses = [self.tokenizer(text) for i, text in enumerate(df['text'])]\n",
    "\n",
    "            edges = self._build_word_transition_network(hypotheses)\n",
    "            rover_result = self._get_result(edges)\n",
    "\n",
    "            text = self.detokenizer([value for value in rover_result if value != ''])\n",
    "\n",
    "            result[task] = text\n",
    "\n",
    "        result = pd.Series(result, name='text')\n",
    "        result.index.name = 'task'\n",
    "        self.texts_ = result\n",
    "        return "
   ]
  },
  {
   "cell_type": "code",
   "execution_count": 11,
   "id": "7b0c2b9c",
   "metadata": {},
   "outputs": [],
   "source": [
    "def get_rover_df(df: pd.DataFrame, model_cols: List[str], tmp_col: str=\"__tmp\") -> pd.DataFrame:\n",
    "\n",
    "    rover_df = df.copy()\n",
    "    \n",
    "    if \"text\" in rover_df.columns:\n",
    "        rover_df.drop(\"text\", axis=1, inplace=True)\n",
    "    \n",
    "    rover_df[tmp_col] = rover_df.apply(lambda row: [(model, row[model]) for model in model_cols], axis=1)\n",
    "    \n",
    "    rover_df = rover_df.drop(model_cols, axis=1).explode(tmp_col)\n",
    "\n",
    "    return pd.DataFrame({\n",
    "        \"task\": rover_df[\"task\"],\n",
    "        \"performer\": rover_df[tmp_col].apply(lambda x: x[0]),\n",
    "        \"text\": rover_df[tmp_col].apply(lambda x: x[1])\n",
    "    })"
   ]
  },
  {
   "cell_type": "code",
   "execution_count": 12,
   "id": "00643245",
   "metadata": {},
   "outputs": [
    {
     "data": {
      "text/plain": [
       "{'qnet': 0.9486507626124364,\n",
       " 'w2v_tts': 0.7106374657802111,\n",
       " 'w2v': 0.6546343371138053}"
      ]
     },
     "execution_count": 12,
     "metadata": {},
     "output_type": "execute_result"
    }
   ],
   "source": [
    "MODELS = ['qnet', 'w2v_tts', 'w2v']\n",
    "\n",
    "method2wer = {model: wer(val_df['text'], val_df[model]) for model in MODELS}\n",
    "\n",
    "method2wer"
   ]
  },
  {
   "cell_type": "code",
   "execution_count": 13,
   "id": "96b87627",
   "metadata": {},
   "outputs": [],
   "source": [
    "model2priority = {\n",
    "    'w2v': 1,\n",
    "    'w2v_tts': 2,\n",
    "    'qnet': 3\n",
    "}\n",
    "\n",
    "rover_df = get_rover_df(val_df, model_cols=MODELS)\n",
    "\n",
    "rover_df['priority'] = rover_df['performer'].apply(lambda x: model2priority[x])"
   ]
  },
  {
   "cell_type": "code",
   "execution_count": 14,
   "id": "17a4ddac",
   "metadata": {},
   "outputs": [
    {
     "data": {
      "application/vnd.jupyter.widget-view+json": {
       "model_id": "76edea94e40c4e268d04b1d7f46c2184",
       "version_major": 2,
       "version_minor": 0
      },
      "text/plain": [
       "HBox(children=(FloatProgress(value=0.0, max=12354.0), HTML(value='')))"
      ]
     },
     "metadata": {},
     "output_type": "display_data"
    },
    {
     "name": "stdout",
     "output_type": "stream",
     "text": [
      "\n"
     ]
    },
    {
     "data": {
      "application/vnd.jupyter.widget-view+json": {
       "model_id": "b9c07817b0384da2b88e7ee33403ab3e",
       "version_major": 2,
       "version_minor": 0
      },
      "text/plain": [
       "HBox(children=(FloatProgress(value=0.0, max=12354.0), HTML(value='')))"
      ]
     },
     "metadata": {},
     "output_type": "display_data"
    },
    {
     "name": "stdout",
     "output_type": "stream",
     "text": [
      "\n"
     ]
    }
   ],
   "source": [
    "tokenizer = lambda x: list(x)\n",
    "detokenizer = lambda x: \"\".join(x)\n",
    "\n",
    "priority_rover_df = (\n",
    "    PriorityROVER(tokenizer=tokenizer, detokenizer=detokenizer, silent=False)\n",
    "    .fit_predict(rover_df)\n",
    ")\n",
    "\n",
    "base_rover_df = (\n",
    "    ROVER(tokenizer=tokenizer, detokenizer=detokenizer, silent=False)\n",
    "    .fit_predict(rover_df)\n",
    ")"
   ]
  },
  {
   "cell_type": "code",
   "execution_count": 15,
   "id": "fa209ebe",
   "metadata": {},
   "outputs": [],
   "source": [
    "for df, method in [(base_rover_df, 'base_ROVER'), (priority_rover_df, 'priority_ROVER')]:\n",
    "\n",
    "    merged_df = pd.merge(df.reset_index(), val_df, on='task')\n",
    "    wer_metric = wer(merged_df['text'], merged_df['agg_text'])\n",
    "    method2wer[method] = wer_metric    "
   ]
  },
  {
   "cell_type": "code",
   "execution_count": 16,
   "id": "c7f7d18e",
   "metadata": {},
   "outputs": [
    {
     "data": {
      "text/plain": [
       "{'qnet': 0.9486507626124364,\n",
       " 'w2v_tts': 0.7106374657802111,\n",
       " 'w2v': 0.6546343371138053,\n",
       " 'base_ROVER': 0.6477121626906531,\n",
       " 'priority_ROVER': 0.6387172467735628}"
      ]
     },
     "execution_count": 16,
     "metadata": {},
     "output_type": "execute_result"
    }
   ],
   "source": [
    "method2wer"
   ]
  },
  {
   "cell_type": "markdown",
   "id": "138c3bfb",
   "metadata": {},
   "source": [
    "## Rescoring"
   ]
  },
  {
   "cell_type": "code",
   "execution_count": 17,
   "id": "5e7c73cc",
   "metadata": {},
   "outputs": [],
   "source": [
    "text_data = pd.read_csv(\"noisy_text_aggregation_text_only.csv\", header=None)"
   ]
  },
  {
   "cell_type": "code",
   "execution_count": 18,
   "id": "117ad917",
   "metadata": {},
   "outputs": [],
   "source": [
    "def build_ngram_counts(\n",
    "        tokenized_texts: Iterable[Iterable[str]], \n",
    "        n: int,\n",
    "        BOS: str,\n",
    "        EOS: str\n",
    "    ) -> Dict[Tuple[str, ...], Dict[str, int]]:\n",
    "        \n",
    "        counts = defaultdict(Counter)\n",
    "\n",
    "        for text in tokenized_texts:\n",
    "\n",
    "            ngrams = nltk.ngrams(\n",
    "                text, n=n, pad_left=True, pad_right=True, left_pad_symbol=BOS, right_pad_symbol=EOS\n",
    "            )\n",
    "\n",
    "            for ngram in ngrams:\n",
    "                prev, token = ngram[:-1], ngram[-1]\n",
    "                counts[prev][token] += 1\n",
    "\n",
    "        return counts\n",
    "\n",
    "\n",
    "class LaplaceLanguageModel:\n",
    "    \n",
    "    def __init__(\n",
    "            self,\n",
    "            ngram_counts: Dict[Tuple[str, ...], Dict[str, int]],\n",
    "            n: int, \n",
    "            delta: float = 0.0, \n",
    "            BOS: str='<BOS>',\n",
    "            EOS: str='<EOS>'\n",
    "        ):\n",
    "        self.n = n\n",
    "        self.BOS = BOS\n",
    "        self.EOS = EOS\n",
    "        \n",
    "        self.vocab = {\n",
    "            token for distribution in ngram_counts.values() for token in distribution\n",
    "        }\n",
    "        \n",
    "        self.probs = defaultdict(Counter)\n",
    "\n",
    "        for prefix, distribution in ngram_counts.items():\n",
    "            norm: float = sum(distribution.values()) + delta * len(self.vocab)\n",
    "            self.probs[prefix] = {\n",
    "                token: (count + delta) / norm for token, count in distribution.items()\n",
    "            }\n",
    "    \n",
    "    def __get_observed_token_distribution(self, prefix: List[str]) -> Dict[str, float]:\n",
    "        prefix = prefix[max(0, len(prefix) - self.n + 1):]\n",
    "        prefix = [self.BOS] * (self.n - 1 - len(prefix)) + prefix\n",
    "        return self.probs[tuple(prefix)]\n",
    "    \n",
    "    \n",
    "    def get_token_distribution(self, prefix: List[str]) -> Dict[str, float]:\n",
    "        \n",
    "        distribution: Dict[str, float] = self.__get_observed_token_distribution(prefix)\n",
    "        \n",
    "        missing_prob_total: float = 1.0 - sum(distribution.values())\n",
    "        \n",
    "        missing_prob = missing_prob_total / max(1, len(self.vocab) - len(distribution))\n",
    "        \n",
    "        return {token: distribution.get(token, missing_prob) for token in self.vocab}\n",
    "    \n",
    "    \n",
    "    def get_next_token_prob(self, prefix: List[str], next_token: str):\n",
    "        \n",
    "        distribution: Dict[str, float] = self.__get_observed_token_distribution(prefix)\n",
    "        \n",
    "        if next_token in distribution:\n",
    "            return distribution[next_token]\n",
    "        \n",
    "        else:\n",
    "            missing_prob_total = 1.0 - sum(distribution.values())\n",
    "            return max(0, missing_prob_total) / max(1, len(self.vocab) - len(distribution))\n",
    "    \n",
    "    \n",
    "    def score_sequence(self, tokens: List[str], min_logprob: float = np.log(10 ** -50.)) -> float:\n",
    "        prefix = [self.BOS] * (self.n - 1)\n",
    "        padded_tokens = tokens + [self.EOS]\n",
    "        logprobs_sum = 0.0\n",
    "        for token in padded_tokens:\n",
    "            logprob = np.log(self.get_next_token_prob(prefix, token))\n",
    "            prefix = prefix[1:] + [token]\n",
    "            logprobs_sum += max(logprob, min_logprob)\n",
    "        return logprobs_sum / len(tokens) if tokens else 0.0"
   ]
  },
  {
   "cell_type": "code",
   "execution_count": 19,
   "id": "ff99adbc",
   "metadata": {},
   "outputs": [
    {
     "name": "stderr",
     "output_type": "stream",
     "text": [
      "/var/folders/1w/55f2466j79335k2064k2wj480000gn/T/ipykernel_39414/2842891102.py:83: RuntimeWarning: divide by zero encountered in log\n",
      "  logprob = np.log(self.get_next_token_prob(prefix, token))\n"
     ]
    }
   ],
   "source": [
    "orders = (2, 3, 4, 5, 6, 7, 8, 9, 10)\n",
    "smoothing = (0.9, 0.7, 0.5, 0.3, 1e-1, 5e-2, 1e-2, 5e-3, 1e-3, 5e-4)\n",
    "\n",
    "wers = np.zeros(shape=(len(orders), len(smoothing)))\n",
    "\n",
    "BOS = '<BOS>'\n",
    "EOS = '<EOS>'\n",
    "\n",
    "for i, order in enumerate(orders):\n",
    "    \n",
    "    ngram_counts = build_ngram_counts(tokenized_texts=text_data[0], n=order, BOS=BOS, EOS=EOS)\n",
    "    \n",
    "    for j, delta in enumerate(smoothing):\n",
    "        lm = LaplaceLanguageModel(\n",
    "            n=order,\n",
    "            ngram_counts=ngram_counts,\n",
    "            delta=delta,\n",
    "            BOS=BOS,\n",
    "            EOS=EOS\n",
    "        )\n",
    "        \n",
    "        scoring_result = train_df.apply(\n",
    "            lambda row: row[\n",
    "                MODELS[\n",
    "                    np.array([\n",
    "                        lm.score_sequence(tokens=list(row[model])) for model in MODELS\n",
    "                    ]).argmax()\n",
    "                ]\n",
    "            ], \n",
    "            axis=1\n",
    "        )\n",
    "        \n",
    "        wers[i, j] = wer(train_df.text, scoring_result)"
   ]
  },
  {
   "cell_type": "code",
   "execution_count": 20,
   "id": "9a123096",
   "metadata": {},
   "outputs": [
    {
     "data": {
      "image/png": "[encoded data removed]",
      "text/plain": [
       "<Figure size 576x432 with 2 Axes>"
      ]
     },
     "metadata": {},
     "output_type": "display_data"
    }
   ],
   "source": [
    "plt.figure(figsize=(8,6))\n",
    "sns.heatmap(\n",
    "    pd.DataFrame(\n",
    "        wers,\n",
    "        index=orders,\n",
    "        columns=smoothing\n",
    "    ),\n",
    "    annot=True,\n",
    "    fmt='.3g',\n",
    "    cmap='coolwarm',\n",
    "    linewidth=2\n",
    ")\n",
    "plt.title(\"Language Model Rescoring Word Error Rate\")\n",
    "plt.tick_params(\n",
    "    axis='both', which='major', labelsize=14, left=False, labelbottom=False, \n",
    "    bottom=False, top=False, labeltop=True\n",
    ")\n",
    "plt.xticks(rotation=45)\n",
    "plt.yticks(rotation=0)\n",
    "plt.ylabel(\"model order\")\n",
    "plt.xlabel(\"delta smoothing\")\n",
    "plt.show()"
   ]
  },
  {
   "cell_type": "code",
   "execution_count": 21,
   "id": "bb592f6c",
   "metadata": {},
   "outputs": [],
   "source": [
    "n = 6\n",
    "delta = 1e-2\n",
    "\n",
    "ngram_counts = build_ngram_counts(tokenized_texts=text_data[0], n=n, BOS=BOS, EOS=EOS)\n",
    "\n",
    "lm = LaplaceLanguageModel(\n",
    "    n=n, delta=delta, BOS=BOS, EOS=EOS,\n",
    "    ngram_counts=ngram_counts\n",
    ")\n",
    "\n",
    "scoring_result = val_df.apply(\n",
    "    lambda row: row[\n",
    "        MODELS[\n",
    "            np.array([\n",
    "                lm.score_sequence(tokens=list(row[model])) for model in MODELS\n",
    "            ]).argmax()\n",
    "        ]\n",
    "    ], \n",
    "    axis=1\n",
    ")"
   ]
  },
  {
   "cell_type": "code",
   "execution_count": 22,
   "id": "f9d9dd1b",
   "metadata": {},
   "outputs": [],
   "source": [
    "method2wer[\"6_gram_1e-2_rescoring\"] = wer(val_df.text, scoring_result)"
   ]
  },
  {
   "cell_type": "code",
   "execution_count": 23,
   "id": "8dbfa11f",
   "metadata": {},
   "outputs": [
    {
     "data": {
      "text/plain": [
       "{'qnet': 0.9486507626124364,\n",
       " 'w2v_tts': 0.7106374657802111,\n",
       " 'w2v': 0.6546343371138053,\n",
       " 'base_ROVER': 0.6477121626906531,\n",
       " 'priority_ROVER': 0.6387172467735628,\n",
       " '6_gram_1e-2_rescoring': 0.6325381306218224}"
      ]
     },
     "execution_count": 23,
     "metadata": {},
     "output_type": "execute_result"
    }
   ],
   "source": [
    "method2wer"
   ]
  },
  {
   "cell_type": "code",
   "execution_count": 24,
   "id": "aa98f0df",
   "metadata": {},
   "outputs": [],
   "source": [
    "models = ['w2v', 'w2v_tts']\n",
    "\n",
    "scoring_result = val_df.apply(\n",
    "    lambda row: row[\n",
    "        models[\n",
    "            np.array([\n",
    "                lm.score_sequence(tokens=list(row[model])) for model in models\n",
    "            ]).argmax()\n",
    "        ]\n",
    "    ],\n",
    "    axis=1\n",
    ")"
   ]
  },
  {
   "cell_type": "code",
   "execution_count": 25,
   "id": "129889f8",
   "metadata": {},
   "outputs": [],
   "source": [
    "method2wer['6_gram_1e-2_rescoring_without_qnet'] = wer(val_df['text'], scoring_result)"
   ]
  },
  {
   "cell_type": "markdown",
   "id": "d91b0587",
   "metadata": {},
   "source": [
    "## LM + ROVER"
   ]
  },
  {
   "cell_type": "code",
   "execution_count": 26,
   "id": "1790025c",
   "metadata": {},
   "outputs": [],
   "source": [
    "class LmROVER(ROVER):\n",
    "    \n",
    "    def __init__(self, lm, print_hyps=False, max_uncertainity_nodes=4, *args, **kwargs):\n",
    "        super().__init__(*args, **kwargs)\n",
    "        self.lm = lm\n",
    "        self.max_uncertainity_nodes = max_uncertainity_nodes\n",
    "        self.print_hyps = print_hyps\n",
    "\n",
    "    def fit(self, data):\n",
    "        \"\"\"\n",
    "        Fits the model. The aggregated results are saved to the `texts_` attribute.\n",
    "        \"\"\"\n",
    "\n",
    "        result = {}\n",
    "        grouped_tasks = data.groupby('task') if self.silent else tqdm(data.groupby('task'))\n",
    "        for task, df in grouped_tasks:\n",
    "            \n",
    "            df.sort_values(\"priority\", inplace=True) # !!!\n",
    "            \n",
    "            hypotheses = [self.tokenizer(text) for i, text in enumerate(df['text'])]\n",
    "\n",
    "            edges = self._build_word_transition_network(hypotheses)\n",
    "            rover_result = self._get_result(edges)\n",
    "\n",
    "            text = self.detokenizer([value for value in rover_result if value != ''])\n",
    "\n",
    "            result[task] = text\n",
    "\n",
    "        result = pd.Series(result, name='text')\n",
    "        result.index.name = 'task'\n",
    "        self.texts_ = result\n",
    "        return\n",
    "    \n",
    "    def _get_result(self, edges) -> List[str]:\n",
    "        results = [[]]\n",
    "        \n",
    "        uncertainity_nodes_count = sum(\n",
    "            len({x.sources_count for x in edges_set.values()}) == 1 and len(edges_set.values()) > 1\n",
    "            for edges_set in edges\n",
    "        )\n",
    "        \n",
    "        if uncertainity_nodes_count > self.max_uncertainity_nodes:\n",
    "            return super()._get_result(edges)\n",
    "        \n",
    "        for edges_set in edges:\n",
    "            \n",
    "            e_values = edges_set.values()\n",
    "            \n",
    "            unique_counts = len({x.sources_count for x in e_values})\n",
    "            \n",
    "            if len(e_values) > 1 and unique_counts == 1:\n",
    "                new_results = []\n",
    "                for x in e_values:\n",
    "                    for result in results:\n",
    "                        new_results.append(result + [x.value])\n",
    "                results = deepcopy(new_results)\n",
    "            else:\n",
    "                _, value = max((x.sources_count, x.value) for x in e_values)\n",
    "                for result in results:\n",
    "                    result.append(value)\n",
    "        \n",
    "        candidates = [\n",
    "            (self.lm.score_sequence(list(self.detokenizer(result))), result)\n",
    "            for result in results\n",
    "        ]\n",
    "        \n",
    "        if self.print_hyps and len(candidates) > 1:\n",
    "            \n",
    "            candidates = sorted(candidates)[::-1]\n",
    "            \n",
    "            print(\"#\" * 64)\n",
    "            for score, sequence in candidates:\n",
    "                print(\n",
    "                    f\"{score:.3f} \\t {self.detokenizer(sequence)}\"\n",
    "                )\n",
    "                \n",
    "            best_score, best_result = candidates[0]\n",
    "        else:\n",
    "            best_score, best_result = max(candidates)\n",
    "        \n",
    "        return best_result"
   ]
  },
  {
   "cell_type": "code",
   "execution_count": 27,
   "id": "9732edf7",
   "metadata": {},
   "outputs": [
    {
     "name": "stdout",
     "output_type": "stream",
     "text": [
      "################################################################\n",
      "-2.437 \t анжелкойивелисеевой\n",
      "-2.452 \t анжелкойилелисеевой\n",
      "-2.596 \t анжелкойилерлисеевой\n",
      "-2.609 \t анжелкойиделисеевой\n",
      "-2.732 \t анжелкойилееисеевой\n",
      "-2.732 \t анжелкойидееисеевой\n",
      "-2.732 \t анжелкойивееисеевой\n",
      "-2.760 \t анжелкопивелисеевой\n",
      "-2.772 \t анжелкойиве еисеевой\n",
      "-2.783 \t анжелкойиверлисеевой\n",
      "-2.786 \t анжелко ивелисеевой\n",
      "-2.797 \t анжелкопиделисеевой\n",
      "-2.837 \t анжелко илелисеевой\n",
      "-2.840 \t анжелкойидереисеевой\n",
      "-2.886 \t анжелкойиде еисеевой\n",
      "-2.906 \t анжелкойилерисеевой\n",
      "-2.921 \t анжелкопидееисеевой\n",
      "-2.938 \t анжелкойиле еисеевой\n",
      "-2.946 \t анжелкопилелисеевой\n",
      "-2.947 \t анжелкойилеррисеевой\n",
      "-2.955 \t анжелкойиверисеевой\n",
      "-2.961 \t анжелко илерлисеевой\n",
      "-2.966 \t анжелкойидерисеевой\n",
      "-2.979 \t анжелко иделисеевой\n",
      "-2.994 \t анжелкойилереисеевой\n",
      "-2.994 \t анжелкойивереисеевой\n",
      "-3.006 \t анжелкойиве рисеевой\n",
      "-3.006 \t анжелкойидерлисеевой\n",
      "-3.008 \t анжелко ивееисеевой\n",
      "-3.016 \t анжелкойиверрисеевой\n",
      "-3.019 \t анжелкопидереисеевой\n",
      "-3.034 \t анжелко иве еисеевой\n",
      "-3.055 \t анжелкопивееисеевой\n",
      "-3.063 \t анжелкойиде лисеевой\n",
      "-3.064 \t анжелкопилерлисеевой\n",
      "-3.065 \t анжелкопиде еисеевой\n",
      "-3.089 \t анжелкопиверлисеевой\n",
      "-3.101 \t анжелкойидеррисеевой\n",
      "-3.103 \t анжелко идееисеевой\n",
      "-3.117 \t анжелко илееисеевой\n",
      "-3.154 \t анжелкопидерисеевой\n",
      "-3.175 \t анжелкопиве еисеевой\n",
      "-3.185 \t анжелкопидерлисеевой\n",
      "-3.191 \t анжелкойиле лисеевой\n",
      "-3.191 \t анжелко иверлисеевой\n",
      "-3.192 \t анжелко идереисеевой\n",
      "-3.226 \t анжелкопилееисеевой\n",
      "-3.238 \t анжелко иде еисеевой\n",
      "-3.242 \t анжелкопиде лисеевой\n",
      "-3.268 \t анжелко иве рисеевой\n",
      "-3.277 \t анжелкопиверисеевой\n",
      "-3.280 \t анжелкопидеррисеевой\n",
      "-3.290 \t анжелко илерисеевой\n",
      "-3.300 \t анжелкопивереисеевой\n",
      "-3.303 \t анжелко иле еисеевой\n",
      "-3.307 \t анжелкойиле рисеевой\n",
      "-3.312 \t анжелко илеррисеевой\n",
      "-3.317 \t анжелкойиве лисеевой\n",
      "-3.322 \t анжелкопиверрисеевой\n",
      "-3.337 \t анжелко идерисеевой\n",
      "-3.358 \t анжелко идерлисеевой\n",
      "-3.359 \t анжелко илереисеевой\n",
      "-3.385 \t анжелко иверисеевой\n",
      "-3.399 \t анжелкопилерисеевой\n",
      "-3.403 \t анжелко ивереисеевой\n",
      "-3.404 \t анжелкойиде рисеевой\n",
      "-3.408 \t анжелкопиве рисеевой\n",
      "-3.415 \t анжелко иде лисеевой\n",
      "-3.416 \t анжелкопилеррисеевой\n",
      "-3.424 \t анжелко иверрисеевой\n",
      "-3.453 \t анжелко идеррисеевой\n",
      "-3.463 \t анжелкопилереисеевой\n",
      "-3.489 \t анжелкопиве лисеевой\n",
      "-3.520 \t анжелкопиле еисеевой\n",
      "-3.556 \t анжелко иле лисеевой\n",
      "-3.579 \t анжелко иве лисеевой\n",
      "-3.583 \t анжелкопиде рисеевой\n",
      "-3.672 \t анжелко иле рисеевой\n",
      "-3.756 \t анжелко иде рисеевой\n",
      "-3.774 \t анжелкопиле лисеевой\n",
      "-3.890 \t анжелкопиле рисеевой\n",
      "################################################################\n",
      "-3.810 \t елини шамилевне\n",
      "-5.337 \t елини шамил вне\n",
      "-5.572 \t елини шамиливне\n",
      "################################################################\n",
      "-2.347 \t прини головановой\n",
      "-2.652 \t перини головановой\n",
      "-2.974 \t пирини головановой\n",
      "################################################################\n",
      "-2.619 \t николая василиевича мидина\n",
      "-2.939 \t николая василиеича мидина\n",
      "-3.145 \t николая василиейича мидина\n",
      "################################################################\n",
      "-1.834 \t виктор александрович уаласюку\n",
      "-1.860 \t виктор александрович лаласюку\n",
      "-1.920 \t виктор александрович валасюку\n",
      "################################################################\n",
      "-2.937 \t нину старт дупциу\n",
      "-2.976 \t нину стара дупциу\n",
      "-3.143 \t нину старо дупциу\n",
      "################################################################\n",
      "-1.468 \t донилу александровичу\n",
      "-1.821 \t донил александровичу\n",
      "-1.903 \t доняилу александровичу\n",
      "-1.969 \t доняил александровичу\n",
      "-2.009 \t донило александровичу\n",
      "-2.082 \t дон илу александровичу\n",
      "-2.183 \t дон ил александровичу\n",
      "-2.273 \t доняило александровичу\n",
      "-2.389 \t дон ило александровичу\n",
      "################################################################\n",
      "-1.832 \t и катерины валентиновной карасивой\n",
      "-1.834 \t е катерины валентиновной карасивой\n",
      "-1.847 \t я катерины валентиновной карасивой\n",
      "################################################################\n",
      "-2.922 \t михаюв раисович кулинков\n",
      "-2.945 \t михаив раисович кулинков\n",
      "-3.259 \t михаев раисович кулинков\n",
      "################################################################\n",
      "-2.122 \t фирузи петровне глебовой\n",
      "-2.620 \t фирузи петровне глебовй\n",
      "-2.641 \t фирузи петровне глебовай\n",
      "################################################################\n",
      "-2.599 \t софь и ковалевой\n",
      "-3.311 \t софь и ковалевый\n",
      "-3.456 \t софь и ковалевй\n",
      "################################################################\n",
      "-3.900 \t экотерина на уминка\n",
      "-3.974 \t экотерины на уминка\n",
      "-4.723 \t экотерин на уминка\n",
      "################################################################\n",
      "-4.003 \t ирини олигаобынавасиловой\n",
      "-4.023 \t ирини олигабынавасиловой\n",
      "-4.126 \t ирини олига бынавасиловой\n",
      "-4.217 \t ирини олигаб навасиловой\n",
      "-4.287 \t ирини олигаоб навасиловой\n",
      "-4.320 \t ирини олига б навасиловой\n",
      "-4.356 \t ирини олигаобинавасиловой\n",
      "-4.369 \t ирини олигабинавасиловой\n",
      "-4.388 \t ирини олига бинавасиловой\n",
      "################################################################\n",
      "-4.900 \t ана стосию ду д реву\n",
      "-4.986 \t ана стосию ду дореву\n",
      "-4.992 \t ана стосию ду дыреву\n",
      "################################################################\n",
      "-3.808 \t серге анатоливич ужукову\n",
      "-3.809 \t серги анатоливич ужукову\n",
      "-3.948 \t серги антоливич ужукову\n",
      "-3.954 \t сергн анатоливич ужукову\n",
      "-4.021 \t серги нтоливич ужукову\n",
      "-4.065 \t серги внтоливич ужукову\n",
      "-4.086 \t серге антоливич ужукову\n",
      "-4.091 \t серги внотоливич ужукову\n",
      "-4.139 \t сергн антоливич ужукову\n",
      "-4.147 \t сергн внотоливич ужукову\n",
      "-4.202 \t серге внотоливич ужукову\n",
      "-4.204 \t сергн анотоливич ужукову\n",
      "-4.231 \t серге внтоливич ужукову\n",
      "-4.234 \t сергн внтоливич ужукову\n",
      "-4.263 \t серги натоливич ужукову\n",
      "-4.266 \t сергн нтоливич ужукову\n",
      "-4.294 \t серги внатоливич ужукову\n",
      "-4.303 \t серге нтоливич ужукову\n",
      "-4.342 \t серги анотоливич ужукову\n",
      "-4.381 \t серге натоливич ужукову\n",
      "-4.421 \t серге анотоливич ужукову\n",
      "-4.453 \t серге внатоливич ужукову\n",
      "-4.456 \t сергн внатоливич ужукову\n",
      "-4.467 \t сергн нотоливич ужукову\n",
      "-4.478 \t серги нотоливич ужукову\n",
      "-4.553 \t серге нотоливич ужукову\n",
      "-4.799 \t сергн натоливич ужукову\n",
      "################################################################\n",
      "-3.311 \t юриям вылиулиным\n",
      "-3.404 \t юриям выли улиным\n",
      "-3.411 \t юриям вылилулиным\n",
      "################################################################\n",
      "-3.600 \t сереги грочови\n",
      "-3.978 \t серегие грочови\n",
      "-4.090 \t серегий грочови\n",
      "################################################################\n",
      "-3.997 \t вечисла в уторосяну\n",
      "-4.141 \t вечисла вуутросяну\n",
      "-4.173 \t вечисла вууторосяну\n",
      "-4.177 \t вечисла вутросяну\n",
      "-4.208 \t вечисла вуторосяну\n",
      "-4.544 \t вечисла вуутаросяну\n",
      "-4.594 \t вечисла в утаросяну\n",
      "-4.601 \t вечисла вутаросяну\n",
      "-4.859 \t вечисла в утросяну\n",
      "################################################################\n",
      "-3.920 \t казарень\n",
      "-4.014 \t казаренк\n",
      "-4.417 \t казарени\n",
      "################################################################\n",
      "-2.263 \t елена викторавно ворониный\n",
      "-2.511 \t елена викторавно вороненый\n",
      "-2.980 \t елена викторавно вороннный\n",
      "################################################################\n",
      "-3.078 \t в одимирелионидовича коробейникови\n",
      "-3.201 \t в одимирелинидовича коробейникови\n",
      "-3.236 \t влодимирелионидовича коробейникови\n",
      "-3.238 \t водимирелионидовича коробейникови\n",
      "-3.297 \t в одимирелиянидовича коробейникови\n",
      "-3.363 \t влодимирелинидовича коробейникови\n",
      "-3.370 \t водимирелинидовича коробейникови\n",
      "-3.454 \t влодимирелиянидовича коробейникови\n",
      "-3.463 \t водимирелиянидовича коробейникови\n",
      "################################################################\n",
      "-4.680 \t шутин\n",
      "-5.110 \t сутин\n",
      "-5.155 \t вутин\n",
      "################################################################\n",
      "-4.021 \t гончирова\n",
      "-4.026 \t генчирова\n",
      "-4.178 \t ганчирова\n",
      "-4.956 \t гончирово\n",
      "-4.960 \t генчирово\n",
      "-5.113 \t ганчирово\n",
      "-5.426 \t гончировы\n",
      "-5.430 \t генчировы\n",
      "-5.583 \t ганчировы\n",
      "################################################################\n",
      "-2.815 \t махмут жона николаевича кановаовы\n",
      "-2.815 \t махмут жона николаевича кановаово\n",
      "-2.815 \t махмут жона николаевича кановаова\n",
      "-2.878 \t махмутджона николаевича кановаовы\n",
      "-2.878 \t махмутджона николаевича кановаово\n",
      "-2.878 \t махмутджона николаевича кановаова\n",
      "-2.917 \t махмуттжона николаевича кановаовы\n",
      "-2.917 \t махмуттжона николаевича кановаово\n",
      "-2.917 \t махмуттжона николаевича кановаова\n",
      "################################################################\n",
      "-1.223 \t марина михайловна левченка\n",
      "-1.520 \t марина михайловна левчонка\n",
      "-1.547 \t марина михайловна левчинка\n",
      "################################################################\n",
      "-2.539 \t ольги олега вне стуловаес\n",
      "-2.539 \t ольги олега вне стуловаео\n",
      "-2.616 \t ольги олега вне стуловает\n",
      "################################################################\n",
      "-2.542 \t шабуровой\n",
      "-2.917 \t шабуровый\n",
      "-4.153 \t шабуровай\n",
      "################################################################\n",
      "-1.323 \t владимиром итальевичу мальцовым\n",
      "-1.380 \t владимиром итальевича мальцовым\n",
      "-1.955 \t владимиром итальевичм мальцовым\n",
      "################################################################\n",
      "-3.997 \t до мерчики е встратове\n",
      "-4.512 \t до мерчики е встратеве\n",
      "-4.611 \t до мерчики е встратаве\n",
      "################################################################\n",
      "-1.788 \t вагановым\n",
      "-3.270 \t вагановм\n",
      "-3.431 \t вагановам\n",
      "-3.669 \t ваган вым\n",
      "-3.844 \t ваган вм\n",
      "-4.156 \t ваган вам\n",
      "-4.238 \t ваганавым\n",
      "-4.238 \t ваганавам\n",
      "-4.326 \t ваганавм\n",
      "################################################################\n",
      "-2.328 \t вечу слава андреевича кулюкова\n",
      "-2.357 \t вечу слава андреевича кулякова\n",
      "-2.365 \t вечу слава андреевича кулекова\n",
      "-2.774 \t вечу слава андриевича кулюкова\n",
      "-2.803 \t вечу слава андриевича кулякова\n",
      "-2.811 \t вечу слава андриевича кулекова\n",
      "-3.032 \t вечу слава андревича кулюкова\n",
      "-3.062 \t вечу слава андревича кулякова\n",
      "-3.070 \t вечу слава андревича кулекова\n",
      "################################################################\n",
      "-3.511 \t людмило сергейвнай поново\n",
      "-3.656 \t людмило сергейвнай поновм\n",
      "-3.656 \t людмило сергейвнай поновй\n",
      "################################################################\n",
      "-2.534 \t дианый микрюковой\n",
      "-3.111 \t дианый микрюковый\n",
      "-3.352 \t дианый микрюковйй\n",
      "################################################################\n",
      "-2.399 \t евгении тонеславовне белобородовой\n",
      "-3.039 \t вгении тонеславовне белобородовой\n",
      "-3.149 \t  вгении тонеславовне белобородовой\n"
     ]
    }
   ],
   "source": [
    "_ = (\n",
    "    LmROVER(lm, tokenizer=tokenizer, detokenizer=detokenizer, print_hyps=True)\n",
    "    .fit_predict(rover_df.head(100 * 3))\n",
    ")"
   ]
  },
  {
   "cell_type": "code",
   "execution_count": 28,
   "id": "dacab5f2",
   "metadata": {},
   "outputs": [
    {
     "data": {
      "application/vnd.jupyter.widget-view+json": {
       "model_id": "e582abf979e44d2699f76d234cda53cd",
       "version_major": 2,
       "version_minor": 0
      },
      "text/plain": [
       "HBox(children=(FloatProgress(value=0.0, max=12354.0), HTML(value='')))"
      ]
     },
     "metadata": {},
     "output_type": "display_data"
    },
    {
     "name": "stdout",
     "output_type": "stream",
     "text": [
      "\n"
     ]
    }
   ],
   "source": [
    "lm_rover_df = (\n",
    "    LmROVER(lm, tokenizer=tokenizer, detokenizer=detokenizer, silent=False)\n",
    "    .fit_predict(rover_df)\n",
    ")"
   ]
  },
  {
   "cell_type": "code",
   "execution_count": 29,
   "id": "619474c6",
   "metadata": {},
   "outputs": [],
   "source": [
    "merged_df = pd.merge(lm_rover_df.reset_index(), val_df, on='task')\n",
    "\n",
    "method2wer['lm_ROVER'] = wer(merged_df['text'], merged_df['agg_text'])"
   ]
  },
  {
   "cell_type": "code",
   "execution_count": 30,
   "id": "1c619427",
   "metadata": {},
   "outputs": [
    {
     "data": {
      "text/plain": [
       "{'qnet': 0.9486507626124364,\n",
       " 'w2v_tts': 0.7106374657802111,\n",
       " 'w2v': 0.6546343371138053,\n",
       " 'base_ROVER': 0.6477121626906531,\n",
       " 'priority_ROVER': 0.6387172467735628,\n",
       " '6_gram_1e-2_rescoring': 0.6325381306218224,\n",
       " '6_gram_1e-2_rescoring_without_qnet': 0.6063746578021119,\n",
       " 'lm_ROVER': 0.6275713727023856}"
      ]
     },
     "execution_count": 30,
     "metadata": {},
     "output_type": "execute_result"
    }
   ],
   "source": [
    "method2wer"
   ]
  },
  {
   "cell_type": "markdown",
   "id": "24a8958c",
   "metadata": {},
   "source": [
    "## Error Correction"
   ]
  },
  {
   "cell_type": "code",
   "execution_count": 31,
   "id": "06459216",
   "metadata": {},
   "outputs": [],
   "source": [
    "def one_edit_words(word: str) -> Set[str]:\n",
    "    \"\"\"\n",
    "    return list of candidates with one correction\n",
    "    \"\"\"\n",
    "    letters = 'абвгдежзийклмнопрстуфхцчшщъыьэюя'\n",
    "    splits = [(word[:i], word[i:]) for i in range(len(word) + 1)]\n",
    "    deletions = [left + right[1:] for left, right in splits if right]\n",
    "    substitutions = [left + c + right[1:] for left, right in splits if right for c in letters]\n",
    "    insertions = [left + c + right for left, right in splits for c in letters]\n",
    "    return set(deletions + substitutions + insertions)\n",
    "\n",
    "\n",
    "word_counts = Counter([word for utterance in train_df['text'].str.split() for word in utterance])\n",
    "\n",
    "\n",
    "@lru_cache(maxsize=None)\n",
    "def correct_word(word: str) -> str:\n",
    "    if word in word_counts:\n",
    "        return word\n",
    "    \n",
    "    candidates = one_edit_words(word)\n",
    "    \n",
    "    candidates = sorted([\n",
    "            (word, word_counts[word])\n",
    "            for word in candidates if word_counts[word] > 0\n",
    "        ],\n",
    "        key=lambda x: -x[1]\n",
    "    )\n",
    "    \n",
    "    if candidates:\n",
    "        return max(candidates, key=lambda x: x[1])[0]\n",
    "    return word"
   ]
  },
  {
   "cell_type": "code",
   "execution_count": 32,
   "id": "c7918531",
   "metadata": {},
   "outputs": [],
   "source": [
    "for model in MODELS:\n",
    "    \n",
    "    method = f\"{model}_corrected\"\n",
    "    val_df[method] = val_df[model].apply(\n",
    "        lambda x: \" \".join([correct_word(w) for w in x.split()])\n",
    "    )\n",
    "    \n",
    "    method2wer[method] = wer(val_df['text'], val_df[method])"
   ]
  },
  {
   "cell_type": "code",
   "execution_count": 33,
   "id": "966ea1ee",
   "metadata": {},
   "outputs": [],
   "source": [
    "corrected_models = [\"w2v_tts_corrected\", \"w2v_corrected\"]\n",
    "\n",
    "val_df['rescored_corrected_w2vs'] = val_df.apply(\n",
    "    lambda row: row[\n",
    "        corrected_models[\n",
    "            np.array([\n",
    "                lm.score_sequence(tokens=list(row[model])) for model in corrected_models\n",
    "            ]).argmax()\n",
    "        ]\n",
    "    ],\n",
    "    axis=1\n",
    ")"
   ]
  },
  {
   "cell_type": "code",
   "execution_count": 34,
   "id": "a408513e",
   "metadata": {},
   "outputs": [],
   "source": [
    "method2wer['6_gram_1e-2_rescoring_corrected_without_qnet'] = wer(\n",
    "    val_df['text'], val_df['rescored_corrected_w2vs']\n",
    ")"
   ]
  },
  {
   "cell_type": "code",
   "execution_count": 35,
   "id": "5446d5a4",
   "metadata": {},
   "outputs": [
    {
     "data": {
      "text/plain": [
       "{'qnet': 0.9486507626124364,\n",
       " 'w2v_tts': 0.7106374657802111,\n",
       " 'w2v': 0.6546343371138053,\n",
       " 'base_ROVER': 0.6477121626906531,\n",
       " 'priority_ROVER': 0.6387172467735628,\n",
       " '6_gram_1e-2_rescoring': 0.6325381306218224,\n",
       " '6_gram_1e-2_rescoring_without_qnet': 0.6063746578021119,\n",
       " 'lm_ROVER': 0.6275713727023856,\n",
       " 'qnet_corrected': 0.8360187719984357,\n",
       " 'w2v_tts_corrected': 0.5676183026984748,\n",
       " 'w2v_corrected': 0.5412983965584669,\n",
       " '6_gram_1e-2_rescoring_corrected_without_qnet': 0.4999217833398514}"
      ]
     },
     "execution_count": 35,
     "metadata": {},
     "output_type": "execute_result"
    }
   ],
   "source": [
    "method2wer"
   ]
  },
  {
   "cell_type": "markdown",
   "id": "8067a0a8",
   "metadata": {},
   "source": [
    "# Test Prediction"
   ]
  },
  {
   "cell_type": "code",
   "execution_count": 36,
   "id": "f9ef6498",
   "metadata": {},
   "outputs": [],
   "source": [
    "test_df = pd.read_json(\"noisy_text_aggregation_test.jsonl\", lines=True)"
   ]
  },
  {
   "cell_type": "code",
   "execution_count": 37,
   "id": "c2e3f790",
   "metadata": {},
   "outputs": [],
   "source": [
    "models = ['w2v', 'w2v_tts']\n",
    "\n",
    "for model in models:\n",
    "    test_df[f\"{model}_corrected\"] = test_df[model].apply(\n",
    "        lambda x:  \" \".join([correct_word(w) for w in x.split()])\n",
    "    )\n",
    "\n",
    "corrected_models = [f\"{model}_corrected\" for model in models]    \n",
    "\n",
    "test_df['prediction'] = test_df.apply(\n",
    "    lambda row: row[\n",
    "        corrected_models[\n",
    "            np.array([\n",
    "                lm.score_sequence(tokens=list(row[model])) for model in corrected_models\n",
    "            ]).argmax()\n",
    "        ]\n",
    "    ],\n",
    "    axis=1\n",
    ")"
   ]
  },
  {
   "cell_type": "code",
   "execution_count": 38,
   "id": "56b74bb2",
   "metadata": {},
   "outputs": [],
   "source": [
    "merged_df = pd.merge(test_df, answer_df, on='task')"
   ]
  },
  {
   "cell_type": "code",
   "execution_count": 39,
   "id": "0f639d8d",
   "metadata": {},
   "outputs": [
    {
     "data": {
      "text/plain": [
       "0.4980884201883355"
      ]
     },
     "execution_count": 39,
     "metadata": {},
     "output_type": "execute_result"
    }
   ],
   "source": [
    "wer(merged_df['text'], merged_df['prediction'])"
   ]
  },
  {
   "cell_type": "code",
   "execution_count": null,
   "id": "486d9bf5",
   "metadata": {},
   "outputs": [],
   "source": []
  }
 ],
 "metadata": {
  "kernelspec": {
   "display_name": "Python 3 (ipykernel)",
   "language": "python",
   "name": "python3"
  },
  "language_info": {
   "codemirror_mode": {
    "name": "ipython",
    "version": 3
   },
   "file_extension": ".py",
   "mimetype": "text/x-python",
   "name": "python",
   "nbconvert_exporter": "python",
   "pygments_lexer": "ipython3",
   "version": "3.8.12"
  }
 },
 "nbformat": 4,
 "nbformat_minor": 5
}
